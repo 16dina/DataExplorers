{
 "cells": [
  {
   "cell_type": "markdown",
   "metadata": {},
   "source": [
    "# DataExplorers\n",
    "### Team Members: Dina Boshnaq, Sharon Maharjan, Daan Michielsen\n",
    "\n",
    "For this project we worked in collaberation together, no one person was working on something specifically. We did the EDA and cleaning together, as well as all the models. We called together whenever we had the chance to keep working on it. "
   ]
  },
  {
   "cell_type": "markdown",
   "metadata": {},
   "source": [
    "# Titanic Dataset\n",
    "\n",
    "We conducted 3 models on this dataset:\n",
    "- AWS model (XGBoost Regressor)\n",
    "- Manual model (Decision Tree Classifier)\n",
    "- A model suggested by Pycaret (Logistic Regression)\n",
    "\n",
    "Their accuracy scores were the following:\n",
    "- AWS model (XGBoost Regressor): 0.92\n",
    "- Manual model (Decision Tree Classifier): 0.8851\n",
    "- A model suggested by Pycaret: 0.9569\n",
    "\n",
    "The best one was the model suggested by Pycaret."
   ]
  },
  {
   "cell_type": "markdown",
   "metadata": {},
   "source": [
    "# Crops Dataset\n",
    "\n",
    "We conducted 3 models on this dataset:\n",
    "- AWS model (XGBoost Regressor): It was bad\n",
    "- Manual model (Decision Tree Regressor)\n",
    "- A model suggested by Pycaret (Extra Trees Regressor)\n",
    "\n",
    "Their accuracy scores were the following:\n",
    "- AWS model (XGBoost Regressor): It was bad\n",
    "- Manual model (Decision Tree Regressor):\n",
    "    - Max depth 5: 0.867283138815873\n",
    "    - Max depth 6: 0.9284370478258994\n",
    "- A model suggested by Pycaret (Extra Trees Regressor): 0.9996"
   ]
  }
 ],
 "metadata": {
  "language_info": {
   "name": "python"
  }
 },
 "nbformat": 4,
 "nbformat_minor": 2
}
