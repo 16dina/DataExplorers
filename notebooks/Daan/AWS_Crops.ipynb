{
 "cells": [
  {
   "cell_type": "markdown",
   "id": "bd623564",
   "metadata": {},
   "source": [
    "# Importing the libraries"
   ]
  },
  {
   "cell_type": "code",
   "execution_count": 9,
   "id": "ff4590da",
   "metadata": {},
   "outputs": [
    {
     "name": "stdout",
     "output_type": "stream",
     "text": [
      "Collecting openpyxl\n",
      "  Downloading openpyxl-3.1.2-py2.py3-none-any.whl (249 kB)\n",
      "\u001b[2K     \u001b[90m━━━━━━━━━━━━━━━━━━━━━━━━━━━━━━━━━━━━━━\u001b[0m \u001b[32m250.0/250.0 kB\u001b[0m \u001b[31m13.0 MB/s\u001b[0m eta \u001b[36m0:00:00\u001b[0m\n",
      "\u001b[?25hCollecting et-xmlfile (from openpyxl)\n",
      "  Downloading et_xmlfile-1.1.0-py3-none-any.whl (4.7 kB)\n",
      "Installing collected packages: et-xmlfile, openpyxl\n",
      "Successfully installed et-xmlfile-1.1.0 openpyxl-3.1.2\n",
      "Note: you may need to restart the kernel to use updated packages.\n"
     ]
    }
   ],
   "source": [
    "%pip install openpyxl"
   ]
  },
  {
   "cell_type": "code",
   "execution_count": 1,
   "id": "fe1ced51",
   "metadata": {},
   "outputs": [
    {
     "name": "stdout",
     "output_type": "stream",
     "text": [
      "sagemaker.config INFO - Not applying SDK defaults from location: /etc/xdg/sagemaker/config.yaml\n",
      "sagemaker.config INFO - Not applying SDK defaults from location: /home/ec2-user/.config/sagemaker/config.yaml\n"
     ]
    }
   ],
   "source": [
    "import sagemaker\n",
    "import boto3\n",
    "from sagemaker.amazon.amazon_estimator import get_image_uri\n",
    "from sagemaker.session import s3_input,Session"
   ]
  },
  {
   "cell_type": "markdown",
   "id": "a5333884",
   "metadata": {},
   "source": [
    "# Creating the variables of backut name and region of aws"
   ]
  },
  {
   "cell_type": "code",
   "execution_count": 2,
   "id": "7e5acc92",
   "metadata": {},
   "outputs": [
    {
     "name": "stdout",
     "output_type": "stream",
     "text": [
      "us-east-1\n"
     ]
    }
   ],
   "source": [
    "bucket_name = 'aws-crop'\n",
    "my_region = boto3.session.Session().region_name\n",
    "print(my_region)"
   ]
  },
  {
   "cell_type": "markdown",
   "id": "0bab1caf",
   "metadata": {},
   "source": [
    "# Figuring out if the s3 bucket is in the us-east or not"
   ]
  },
  {
   "cell_type": "code",
   "execution_count": 3,
   "id": "f45b32ff",
   "metadata": {},
   "outputs": [
    {
     "name": "stdout",
     "output_type": "stream",
     "text": [
      "S3 bucket created successfully\n"
     ]
    }
   ],
   "source": [
    "s3=boto3.resource('s3')\n",
    "try:\n",
    "    if my_region=='us-east-1':\n",
    "        s3.create_bucket(Bucket= bucket_name)\n",
    "    print('S3 bucket created successfully')\n",
    "except Exception as e:\n",
    "    print('S3 error:',e)"
   ]
  },
  {
   "cell_type": "markdown",
   "id": "220de6ef",
   "metadata": {},
   "source": [
    "# Generating the S3 path for storing output data with a given prefix"
   ]
  },
  {
   "cell_type": "code",
   "execution_count": 4,
   "id": "01ecf3eb",
   "metadata": {},
   "outputs": [
    {
     "name": "stdout",
     "output_type": "stream",
     "text": [
      "s3://aws-crop/xgboost-as-a-built-in-algo/output\n"
     ]
    }
   ],
   "source": [
    "prefix= 'xgboost-as-a-built-in-algo'\n",
    "output_path = 's3://{}/{}/output'.format(bucket_name,prefix)\n",
    "print(output_path)"
   ]
  },
  {
   "cell_type": "markdown",
   "id": "c3145805",
   "metadata": {},
   "source": [
    "# Importing the dataset using the pandas library"
   ]
  },
  {
   "cell_type": "code",
   "execution_count": 28,
   "id": "842f3a47",
   "metadata": {},
   "outputs": [
    {
     "name": "stdout",
     "output_type": "stream",
     "text": [
      "Success: Data loaded into dataframe.\n"
     ]
    }
   ],
   "source": [
    "import pandas as pd\n",
    "sheet_stats = ['CropStats']\n",
    "df = pd.concat(pd.read_excel('./crops.xlsx', sheet_name=sheet_stats))\n",
    "print('Success: Data loaded into dataframe.')"
   ]
  },
  {
   "cell_type": "markdown",
   "id": "ceefc691",
   "metadata": {},
   "source": [
    "# Preprocessing data"
   ]
  },
  {
   "cell_type": "code",
   "execution_count": 12,
   "id": "09ae9000",
   "metadata": {},
   "outputs": [
    {
     "data": {
      "text/html": [
       "<div>\n",
       "<style scoped>\n",
       "    .dataframe tbody tr th:only-of-type {\n",
       "        vertical-align: middle;\n",
       "    }\n",
       "\n",
       "    .dataframe tbody tr th {\n",
       "        vertical-align: top;\n",
       "    }\n",
       "\n",
       "    .dataframe thead th {\n",
       "        text-align: right;\n",
       "    }\n",
       "</style>\n",
       "<table border=\"1\" class=\"dataframe\">\n",
       "  <thead>\n",
       "    <tr style=\"text-align: right;\">\n",
       "      <th></th>\n",
       "      <th></th>\n",
       "      <th>Unnamed: 0</th>\n",
       "      <th>Harvest_year</th>\n",
       "      <th>admin0</th>\n",
       "      <th>admin1</th>\n",
       "      <th>crop</th>\n",
       "      <th>hectares (ha)</th>\n",
       "      <th>production (tonnes)</th>\n",
       "      <th>year</th>\n",
       "      <th>yield(tonnes/ha)</th>\n",
       "      <th>admin2</th>\n",
       "      <th>notes</th>\n",
       "    </tr>\n",
       "  </thead>\n",
       "  <tbody>\n",
       "    <tr>\n",
       "      <th rowspan=\"11\" valign=\"top\">CropStats</th>\n",
       "      <th>0</th>\n",
       "      <td>0</td>\n",
       "      <td>1902</td>\n",
       "      <td>Austria</td>\n",
       "      <td>NaN</td>\n",
       "      <td>wheat</td>\n",
       "      <td>NaN</td>\n",
       "      <td>NaN</td>\n",
       "      <td>1902</td>\n",
       "      <td>1.310000</td>\n",
       "      <td>NaN</td>\n",
       "      <td>NaN</td>\n",
       "    </tr>\n",
       "    <tr>\n",
       "      <th>1</th>\n",
       "      <td>1</td>\n",
       "      <td>1903</td>\n",
       "      <td>Austria</td>\n",
       "      <td>NaN</td>\n",
       "      <td>wheat</td>\n",
       "      <td>NaN</td>\n",
       "      <td>NaN</td>\n",
       "      <td>1903</td>\n",
       "      <td>1.470000</td>\n",
       "      <td>NaN</td>\n",
       "      <td>NaN</td>\n",
       "    </tr>\n",
       "    <tr>\n",
       "      <th>2</th>\n",
       "      <td>2</td>\n",
       "      <td>1904</td>\n",
       "      <td>Austria</td>\n",
       "      <td>NaN</td>\n",
       "      <td>wheat</td>\n",
       "      <td>NaN</td>\n",
       "      <td>NaN</td>\n",
       "      <td>1904</td>\n",
       "      <td>1.270000</td>\n",
       "      <td>NaN</td>\n",
       "      <td>NaN</td>\n",
       "    </tr>\n",
       "    <tr>\n",
       "      <th>3</th>\n",
       "      <td>3</td>\n",
       "      <td>1905</td>\n",
       "      <td>Austria</td>\n",
       "      <td>NaN</td>\n",
       "      <td>wheat</td>\n",
       "      <td>NaN</td>\n",
       "      <td>NaN</td>\n",
       "      <td>1905</td>\n",
       "      <td>1.330000</td>\n",
       "      <td>NaN</td>\n",
       "      <td>NaN</td>\n",
       "    </tr>\n",
       "    <tr>\n",
       "      <th>4</th>\n",
       "      <td>4</td>\n",
       "      <td>1906</td>\n",
       "      <td>Austria</td>\n",
       "      <td>NaN</td>\n",
       "      <td>wheat</td>\n",
       "      <td>NaN</td>\n",
       "      <td>NaN</td>\n",
       "      <td>1906</td>\n",
       "      <td>1.280000</td>\n",
       "      <td>NaN</td>\n",
       "      <td>NaN</td>\n",
       "    </tr>\n",
       "    <tr>\n",
       "      <th>...</th>\n",
       "      <td>...</td>\n",
       "      <td>...</td>\n",
       "      <td>...</td>\n",
       "      <td>...</td>\n",
       "      <td>...</td>\n",
       "      <td>...</td>\n",
       "      <td>...</td>\n",
       "      <td>...</td>\n",
       "      <td>...</td>\n",
       "      <td>...</td>\n",
       "      <td>...</td>\n",
       "    </tr>\n",
       "    <tr>\n",
       "      <th>36702</th>\n",
       "      <td>36702</td>\n",
       "      <td>2013</td>\n",
       "      <td>China</td>\n",
       "      <td>zhejiang</td>\n",
       "      <td>wheat</td>\n",
       "      <td>75520.0</td>\n",
       "      <td>278300.0</td>\n",
       "      <td>2013</td>\n",
       "      <td>3.685117</td>\n",
       "      <td>NaN</td>\n",
       "      <td>NaN</td>\n",
       "    </tr>\n",
       "    <tr>\n",
       "      <th>36703</th>\n",
       "      <td>36703</td>\n",
       "      <td>2014</td>\n",
       "      <td>China</td>\n",
       "      <td>zhejiang</td>\n",
       "      <td>wheat</td>\n",
       "      <td>82120.0</td>\n",
       "      <td>309500.0</td>\n",
       "      <td>2014</td>\n",
       "      <td>3.768875</td>\n",
       "      <td>NaN</td>\n",
       "      <td>NaN</td>\n",
       "    </tr>\n",
       "    <tr>\n",
       "      <th>36704</th>\n",
       "      <td>36704</td>\n",
       "      <td>2015</td>\n",
       "      <td>China</td>\n",
       "      <td>zhejiang</td>\n",
       "      <td>wheat</td>\n",
       "      <td>89800.0</td>\n",
       "      <td>351300.0</td>\n",
       "      <td>2015</td>\n",
       "      <td>3.912027</td>\n",
       "      <td>NaN</td>\n",
       "      <td>NaN</td>\n",
       "    </tr>\n",
       "    <tr>\n",
       "      <th>36705</th>\n",
       "      <td>36705</td>\n",
       "      <td>2016</td>\n",
       "      <td>China</td>\n",
       "      <td>zhejiang</td>\n",
       "      <td>wheat</td>\n",
       "      <td>76590.0</td>\n",
       "      <td>253900.0</td>\n",
       "      <td>2016</td>\n",
       "      <td>3.315054</td>\n",
       "      <td>NaN</td>\n",
       "      <td>NaN</td>\n",
       "    </tr>\n",
       "    <tr>\n",
       "      <th>36706</th>\n",
       "      <td>36706</td>\n",
       "      <td>2017</td>\n",
       "      <td>China</td>\n",
       "      <td>zhejiang</td>\n",
       "      <td>wheat</td>\n",
       "      <td>103670.0</td>\n",
       "      <td>419200.0</td>\n",
       "      <td>2017</td>\n",
       "      <td>4.043600</td>\n",
       "      <td>NaN</td>\n",
       "      <td>NaN</td>\n",
       "    </tr>\n",
       "  </tbody>\n",
       "</table>\n",
       "<p>36707 rows × 11 columns</p>\n",
       "</div>"
      ],
      "text/plain": [
       "                 Unnamed: 0  Harvest_year   admin0    admin1   crop  \\\n",
       "CropStats 0               0          1902  Austria       NaN  wheat   \n",
       "          1               1          1903  Austria       NaN  wheat   \n",
       "          2               2          1904  Austria       NaN  wheat   \n",
       "          3               3          1905  Austria       NaN  wheat   \n",
       "          4               4          1906  Austria       NaN  wheat   \n",
       "...                     ...           ...      ...       ...    ...   \n",
       "          36702       36702          2013    China  zhejiang  wheat   \n",
       "          36703       36703          2014    China  zhejiang  wheat   \n",
       "          36704       36704          2015    China  zhejiang  wheat   \n",
       "          36705       36705          2016    China  zhejiang  wheat   \n",
       "          36706       36706          2017    China  zhejiang  wheat   \n",
       "\n",
       "                 hectares (ha)  production (tonnes)  year  yield(tonnes/ha)  \\\n",
       "CropStats 0                NaN                  NaN  1902          1.310000   \n",
       "          1                NaN                  NaN  1903          1.470000   \n",
       "          2                NaN                  NaN  1904          1.270000   \n",
       "          3                NaN                  NaN  1905          1.330000   \n",
       "          4                NaN                  NaN  1906          1.280000   \n",
       "...                        ...                  ...   ...               ...   \n",
       "          36702        75520.0             278300.0  2013          3.685117   \n",
       "          36703        82120.0             309500.0  2014          3.768875   \n",
       "          36704        89800.0             351300.0  2015          3.912027   \n",
       "          36705        76590.0             253900.0  2016          3.315054   \n",
       "          36706       103670.0             419200.0  2017          4.043600   \n",
       "\n",
       "                 admin2 notes  \n",
       "CropStats 0         NaN   NaN  \n",
       "          1         NaN   NaN  \n",
       "          2         NaN   NaN  \n",
       "          3         NaN   NaN  \n",
       "          4         NaN   NaN  \n",
       "...                 ...   ...  \n",
       "          36702     NaN   NaN  \n",
       "          36703     NaN   NaN  \n",
       "          36704     NaN   NaN  \n",
       "          36705     NaN   NaN  \n",
       "          36706     NaN   NaN  \n",
       "\n",
       "[36707 rows x 11 columns]"
      ]
     },
     "execution_count": 12,
     "metadata": {},
     "output_type": "execute_result"
    }
   ],
   "source": [
    "df"
   ]
  },
  {
   "cell_type": "code",
   "execution_count": 29,
   "id": "81aa1303",
   "metadata": {},
   "outputs": [],
   "source": [
    "# Removing the notes column because it is of no use for our model.\n",
    "notes_values = df['notes'].dropna().tolist()\n",
    "# Drop the columns notes and admin2 (not useful)\n",
    "df = df.drop(columns=['notes', 'admin2'])\n",
    "# Rename 'admin0' to 'Country' and 'admin1' to 'City'\n",
    "df = df.rename(columns={'admin0': 'Country', 'admin1': 'City'})\n",
    "df[\"City\"].fillna(\"Not defined\", inplace=True)\n",
    "# Fill the null values of hectares, production and yield with 0 to not miss any upon calculation\n",
    "df.fillna(0, inplace=True)\n",
    "\n",
    "df = df[df['Country'] == 'United States']\n",
    "df = df[~((df['production (tonnes)'] == 0) & ((df['yield(tonnes/ha)'] == 0) | (df['hectares (ha)'] == 0)))]\n",
    "# Find the indexes of rows where 'production' is zero\n",
    "zero_indexes = df[df['production (tonnes)'] == 0].index\n",
    "# Loop through the zero valued indexes and calculate the missing 'production' values\n",
    "for index in zero_indexes:\n",
    "    df.at[index, 'production (tonnes)'] = df.at[index, 'yield(tonnes/ha)'] * df.at[index, 'hectares (ha)']\n",
    "# Some might argue that we should keep the row if the production has a value but yield doesn't, but in our case we need rows without zeros for a good prediction\n",
    "df = df[~((df['yield(tonnes/ha)'] == 0) & ((df['production (tonnes)'] == 0) | (df['hectares (ha)'] == 0)))]\n",
    "# Some might argue that we should keep the row if the production has a value but hectares doesn't, but in our case we need rows without zeros for a good prediction\n",
    "df = df[~((df['hectares (ha)'] == 0) & ((df['production (tonnes)'] == 0) | (df['yield(tonnes/ha)'] == 0)))]\n",
    "# Find the indexes of rows where 'hectares' is zero\n",
    "zero_indexes = df[df['hectares (ha)'] == 0].index\n",
    "# Loop through the zero valued indexes and calculate the missing 'hectares' values\n",
    "for index in zero_indexes:\n",
    "    df.at[index, 'hectares (ha)'] = df.at[index, 'production (tonnes)'] / df.at[index, 'yield(tonnes/ha)']\n",
    "# Select specific columns and reorder them\n",
    "df = df[['year', 'Harvest_year', 'crop', 'hectares (ha)', 'yield(tonnes/ha)', 'production (tonnes)']]\n",
    "df = pd.get_dummies(df, columns=['crop'])\n",
    "cols_to_drop = ['Harvest_year']\n",
    "df.drop(columns=cols_to_drop, axis=1, inplace=True)\n",
    "\n",
    "from sklearn.preprocessing import StandardScaler\n",
    " \n",
    "# Standardize numerical features\n",
    "scaler = StandardScaler()\n",
    "numerical_features = ['yield(tonnes/ha)', 'production (tonnes)', 'hectares (ha)', 'year']\n",
    "df[numerical_features] = scaler.fit_transform(df[numerical_features])\n",
    "\n",
    "Q1 = df['production (tonnes)'].quantile(0.25)\n",
    "Q3 = df['production (tonnes)'].quantile(0.75)\n",
    "IQR = Q3 - Q1\n",
    "lower_bound = Q1 - 1.5 * IQR\n",
    "upper_bound = Q3 + 1.5 * IQR\n",
    " \n",
    "# Remove outliers\n",
    "df = df[(df['production (tonnes)'] >= lower_bound) & (df['production (tonnes)'] <= upper_bound)]\n",
    " \n",
    "# # Define your X (features) and Y (target)\n",
    "# X = df.drop(['production (tonnes)','City','Country'], axis=1)\n",
    "# y = df['production (tonnes)']\n",
    "\n",
    "# df"
   ]
  },
  {
   "cell_type": "markdown",
   "id": "8b86f5d2",
   "metadata": {},
   "source": [
    "# Splitting the data into training and testing data using a random state"
   ]
  },
  {
   "cell_type": "code",
   "execution_count": 30,
   "id": "c4583d02",
   "metadata": {},
   "outputs": [
    {
     "name": "stdout",
     "output_type": "stream",
     "text": [
      "(11153, 8) (4781, 8)\n"
     ]
    }
   ],
   "source": [
    "import numpy as np\n",
    "train_data,test_data = np.split(df.sample(frac=1,random_state=1729),[int(0.7*len(df))])\n",
    "print(train_data.shape,test_data.shape)"
   ]
  },
  {
   "cell_type": "code",
   "execution_count": 15,
   "id": "c4aad158",
   "metadata": {},
   "outputs": [
    {
     "data": {
      "text/html": [
       "<div>\n",
       "<style scoped>\n",
       "    .dataframe tbody tr th:only-of-type {\n",
       "        vertical-align: middle;\n",
       "    }\n",
       "\n",
       "    .dataframe tbody tr th {\n",
       "        vertical-align: top;\n",
       "    }\n",
       "\n",
       "    .dataframe thead th {\n",
       "        text-align: right;\n",
       "    }\n",
       "</style>\n",
       "<table border=\"1\" class=\"dataframe\">\n",
       "  <thead>\n",
       "    <tr style=\"text-align: right;\">\n",
       "      <th></th>\n",
       "      <th></th>\n",
       "      <th>year</th>\n",
       "      <th>hectares (ha)</th>\n",
       "      <th>yield(tonnes/ha)</th>\n",
       "      <th>production (tonnes)</th>\n",
       "      <th>crop_maize</th>\n",
       "      <th>crop_spring wheat</th>\n",
       "      <th>crop_wheat</th>\n",
       "      <th>crop_winter wheat</th>\n",
       "    </tr>\n",
       "  </thead>\n",
       "  <tbody>\n",
       "    <tr>\n",
       "      <th rowspan=\"11\" valign=\"top\">CropStats</th>\n",
       "      <th>23640</th>\n",
       "      <td>-1.461635</td>\n",
       "      <td>0.538940</td>\n",
       "      <td>-0.789922</td>\n",
       "      <td>-0.145622</td>\n",
       "      <td>1</td>\n",
       "      <td>0</td>\n",
       "      <td>0</td>\n",
       "      <td>0</td>\n",
       "    </tr>\n",
       "    <tr>\n",
       "      <th>14253</th>\n",
       "      <td>0.148180</td>\n",
       "      <td>-0.616324</td>\n",
       "      <td>-0.318170</td>\n",
       "      <td>-0.345586</td>\n",
       "      <td>0</td>\n",
       "      <td>0</td>\n",
       "      <td>1</td>\n",
       "      <td>0</td>\n",
       "    </tr>\n",
       "    <tr>\n",
       "      <th>22613</th>\n",
       "      <td>-0.909012</td>\n",
       "      <td>-0.615393</td>\n",
       "      <td>-0.518300</td>\n",
       "      <td>-0.345646</td>\n",
       "      <td>1</td>\n",
       "      <td>0</td>\n",
       "      <td>0</td>\n",
       "      <td>0</td>\n",
       "    </tr>\n",
       "    <tr>\n",
       "      <th>24942</th>\n",
       "      <td>-0.308335</td>\n",
       "      <td>-0.033107</td>\n",
       "      <td>-1.016616</td>\n",
       "      <td>-0.304932</td>\n",
       "      <td>0</td>\n",
       "      <td>1</td>\n",
       "      <td>0</td>\n",
       "      <td>0</td>\n",
       "    </tr>\n",
       "    <tr>\n",
       "      <th>13256</th>\n",
       "      <td>0.724831</td>\n",
       "      <td>3.848337</td>\n",
       "      <td>-0.370248</td>\n",
       "      <td>1.272148</td>\n",
       "      <td>0</td>\n",
       "      <td>0</td>\n",
       "      <td>1</td>\n",
       "      <td>0</td>\n",
       "    </tr>\n",
       "    <tr>\n",
       "      <th>...</th>\n",
       "      <td>...</td>\n",
       "      <td>...</td>\n",
       "      <td>...</td>\n",
       "      <td>...</td>\n",
       "      <td>...</td>\n",
       "      <td>...</td>\n",
       "      <td>...</td>\n",
       "      <td>...</td>\n",
       "    </tr>\n",
       "    <tr>\n",
       "      <th>18018</th>\n",
       "      <td>1.565779</td>\n",
       "      <td>-0.541851</td>\n",
       "      <td>4.542444</td>\n",
       "      <td>-0.145712</td>\n",
       "      <td>1</td>\n",
       "      <td>0</td>\n",
       "      <td>0</td>\n",
       "      <td>0</td>\n",
       "    </tr>\n",
       "    <tr>\n",
       "      <th>21549</th>\n",
       "      <td>-0.380416</td>\n",
       "      <td>0.566867</td>\n",
       "      <td>-0.961473</td>\n",
       "      <td>-0.232438</td>\n",
       "      <td>1</td>\n",
       "      <td>0</td>\n",
       "      <td>0</td>\n",
       "      <td>0</td>\n",
       "    </tr>\n",
       "    <tr>\n",
       "      <th>18289</th>\n",
       "      <td>1.421617</td>\n",
       "      <td>-0.210446</td>\n",
       "      <td>2.626795</td>\n",
       "      <td>0.354214</td>\n",
       "      <td>1</td>\n",
       "      <td>0</td>\n",
       "      <td>0</td>\n",
       "      <td>0</td>\n",
       "    </tr>\n",
       "    <tr>\n",
       "      <th>19210</th>\n",
       "      <td>0.868993</td>\n",
       "      <td>-0.582811</td>\n",
       "      <td>2.398061</td>\n",
       "      <td>-0.287109</td>\n",
       "      <td>1</td>\n",
       "      <td>0</td>\n",
       "      <td>0</td>\n",
       "      <td>0</td>\n",
       "    </tr>\n",
       "    <tr>\n",
       "      <th>22146</th>\n",
       "      <td>-0.692768</td>\n",
       "      <td>-0.546040</td>\n",
       "      <td>-0.203791</td>\n",
       "      <td>-0.314634</td>\n",
       "      <td>1</td>\n",
       "      <td>0</td>\n",
       "      <td>0</td>\n",
       "      <td>0</td>\n",
       "    </tr>\n",
       "  </tbody>\n",
       "</table>\n",
       "<p>12483 rows × 8 columns</p>\n",
       "</div>"
      ],
      "text/plain": [
       "                     year  hectares (ha)  yield(tonnes/ha)  \\\n",
       "CropStats 23640 -1.461635       0.538940         -0.789922   \n",
       "          14253  0.148180      -0.616324         -0.318170   \n",
       "          22613 -0.909012      -0.615393         -0.518300   \n",
       "          24942 -0.308335      -0.033107         -1.016616   \n",
       "          13256  0.724831       3.848337         -0.370248   \n",
       "...                   ...            ...               ...   \n",
       "          18018  1.565779      -0.541851          4.542444   \n",
       "          21549 -0.380416       0.566867         -0.961473   \n",
       "          18289  1.421617      -0.210446          2.626795   \n",
       "          19210  0.868993      -0.582811          2.398061   \n",
       "          22146 -0.692768      -0.546040         -0.203791   \n",
       "\n",
       "                 production (tonnes)  crop_maize  crop_spring wheat  \\\n",
       "CropStats 23640            -0.145622           1                  0   \n",
       "          14253            -0.345586           0                  0   \n",
       "          22613            -0.345646           1                  0   \n",
       "          24942            -0.304932           0                  1   \n",
       "          13256             1.272148           0                  0   \n",
       "...                              ...         ...                ...   \n",
       "          18018            -0.145712           1                  0   \n",
       "          21549            -0.232438           1                  0   \n",
       "          18289             0.354214           1                  0   \n",
       "          19210            -0.287109           1                  0   \n",
       "          22146            -0.314634           1                  0   \n",
       "\n",
       "                 crop_wheat  crop_winter wheat  \n",
       "CropStats 23640           0                  0  \n",
       "          14253           1                  0  \n",
       "          22613           0                  0  \n",
       "          24942           0                  0  \n",
       "          13256           1                  0  \n",
       "...                     ...                ...  \n",
       "          18018           0                  0  \n",
       "          21549           0                  0  \n",
       "          18289           0                  0  \n",
       "          19210           0                  0  \n",
       "          22146           0                  0  \n",
       "\n",
       "[12483 rows x 8 columns]"
      ]
     },
     "execution_count": 15,
     "metadata": {},
     "output_type": "execute_result"
    }
   ],
   "source": [
    "train_data"
   ]
  },
  {
   "cell_type": "markdown",
   "id": "e1caea7b",
   "metadata": {},
   "source": [
    "# Creating the training data set as csv and uploading it to S3"
   ]
  },
  {
   "cell_type": "code",
   "execution_count": 31,
   "id": "81b89856",
   "metadata": {},
   "outputs": [
    {
     "name": "stderr",
     "output_type": "stream",
     "text": [
      "INFO:botocore.credentials:Found credentials from IAM Role: BaseNotebookInstanceEc2InstanceRole\n"
     ]
    }
   ],
   "source": [
    "import os\n",
    "from sagemaker.inputs import TrainingInput\n",
    "file_name = 'crop_train.csv'\n",
    "pd.concat([train_data],axis=1).to_csv(file_name,index=False,header=False)\n",
    "boto3.Session().resource('s3').Bucket(bucket_name).Object(os.path.join(prefix,'train/crop_train.csv')).upload_file(file_name)\n",
    "s3_input_train = TrainingInput(s3_data='s3://{}/{}/train'.format(bucket_name, prefix), content_type='csv')"
   ]
  },
  {
   "cell_type": "markdown",
   "id": "128d2730",
   "metadata": {},
   "source": [
    "# Creating the test data set as csv and uploading it to S3"
   ]
  },
  {
   "cell_type": "code",
   "execution_count": 32,
   "id": "d4e0249d",
   "metadata": {},
   "outputs": [
    {
     "name": "stderr",
     "output_type": "stream",
     "text": [
      "INFO:botocore.credentials:Found credentials from IAM Role: BaseNotebookInstanceEc2InstanceRole\n"
     ]
    }
   ],
   "source": [
    "file_name_test = 'crop_test.csv'\n",
    "pd.concat([test_data],axis=1).to_csv(file_name_test,index=False,header=False)\n",
    "boto3.Session().resource('s3').Bucket(bucket_name).Object(os.path.join(prefix,'test/crop_test.csv')).upload_file(file_name_test)\n",
    "s3_input_test = TrainingInput(s3_data='s3://{}/{}/train'.format(bucket_name, prefix), content_type='csv')"
   ]
  },
  {
   "cell_type": "markdown",
   "id": "22245310",
   "metadata": {},
   "source": [
    "# Container helps to hold uri for the xgboost container image. It helps to used for the sagemaker tasks like training model."
   ]
  },
  {
   "cell_type": "code",
   "execution_count": 33,
   "id": "5a275d5f",
   "metadata": {},
   "outputs": [
    {
     "name": "stderr",
     "output_type": "stream",
     "text": [
      "INFO:sagemaker.image_uris:Defaulting to only available Python version: py3\n",
      "INFO:sagemaker.image_uris:Defaulting to only supported image scope: cpu.\n"
     ]
    }
   ],
   "source": [
    "import sagemaker\n",
    "container = sagemaker.image_uris.retrieve(\n",
    "    framework=\"xgboost\",\n",
    "    region=boto3.Session().region_name,\n",
    "    version=\"1.0-1\"\n",
    ")"
   ]
  },
  {
   "cell_type": "markdown",
   "id": "659d844c",
   "metadata": {},
   "source": [
    "# Hyperparameters helps to control the XGBoost algorithm behavior"
   ]
  },
  {
   "cell_type": "code",
   "execution_count": 34,
   "id": "ff5c60f4",
   "metadata": {},
   "outputs": [],
   "source": [
    "hyperparameters = {\n",
    "    \"objective\": \"reg:linear\",\n",
    "    \"num_round\": 100,\n",
    "    \"max_depth\": 5,\n",
    "    \"eta\": 0.1,\n",
    "    \"gamma\": 0.1,\n",
    "    \"min_child_weight\": 1,\n",
    "    \"subsample\": 0.8,\n",
    "    \"colsample_bytree\": 0.8\n",
    "}"
   ]
  },
  {
   "cell_type": "markdown",
   "id": "ebb1c500",
   "metadata": {},
   "source": [
    "# Setup of the sagemaker estimator to configure the training model "
   ]
  },
  {
   "cell_type": "code",
   "execution_count": 35,
   "id": "a9251996",
   "metadata": {},
   "outputs": [
    {
     "name": "stdout",
     "output_type": "stream",
     "text": [
      "sagemaker.config INFO - Not applying SDK defaults from location: /etc/xdg/sagemaker/config.yaml\n",
      "sagemaker.config INFO - Not applying SDK defaults from location: /home/ec2-user/.config/sagemaker/config.yaml\n",
      "sagemaker.config INFO - Not applying SDK defaults from location: /etc/xdg/sagemaker/config.yaml\n",
      "sagemaker.config INFO - Not applying SDK defaults from location: /home/ec2-user/.config/sagemaker/config.yaml\n"
     ]
    }
   ],
   "source": [
    "estimator = sagemaker.estimator.Estimator(\n",
    "    image_uri=container,\n",
    "    hyperparameters=hyperparameters,\n",
    "    role=sagemaker.get_execution_role(),\n",
    "    instance_count=1,  # Update this line\n",
    "    instance_type='ml.m4.xlarge',  # Update this line\n",
    "    volume_size=5,  # Update this line\n",
    "    output_path=output_path,\n",
    "    use_spot_instances=True,  # Update this line\n",
    "    max_run=300,  # Update this line\n",
    "    max_wait=600,# Update this line\n",
    "      # Add TrainingImageConfig to specify your private Docker registry\n",
    "    training_image_config={\n",
    "        \"RepositoryAccessMode\": \"Vpc\",  # Specify Vpc if it's a private Docker registry\n",
    "        # Add any other required configurations for your private registry\n",
    "    },\n",
    ")"
   ]
  },
  {
   "cell_type": "code",
   "execution_count": 36,
   "id": "e9400a70",
   "metadata": {},
   "outputs": [
    {
     "name": "stderr",
     "output_type": "stream",
     "text": [
      "INFO:sagemaker:Creating training-job with name: sagemaker-xgboost-2023-11-06-01-16-54-285\n"
     ]
    },
    {
     "name": "stdout",
     "output_type": "stream",
     "text": [
      "2023-11-06 01:16:54 Starting - Starting the training job...\n",
      "2023-11-06 01:17:19 Starting - Preparing the instances for training............\n",
      "2023-11-06 01:18:57 Downloading - Downloading input data...\n",
      "2023-11-06 01:19:27 Training - Downloading the training image...\n",
      "2023-11-06 01:20:13 Training - Training image download completed. Training in progress...\u001b[34m[2023-11-06 01:20:30.016 ip-10-2-140-176.ec2.internal:7 INFO utils.py:27] RULE_JOB_STOP_SIGNAL_FILENAME: None\u001b[0m\n",
      "\u001b[34mINFO:sagemaker-containers:Imported framework sagemaker_xgboost_container.training\u001b[0m\n",
      "\u001b[34mINFO:sagemaker-containers:Failed to parse hyperparameter objective value reg:linear to Json.\u001b[0m\n",
      "\u001b[34mReturning the value itself\u001b[0m\n",
      "\u001b[34mINFO:sagemaker-containers:No GPUs detected (normal if no gpus installed)\u001b[0m\n",
      "\u001b[34mINFO:sagemaker_xgboost_container.training:Running XGBoost Sagemaker in algorithm mode\u001b[0m\n",
      "\u001b[34mINFO:root:Determined delimiter of CSV input is ','\u001b[0m\n",
      "\u001b[34mINFO:root:Determined delimiter of CSV input is ','\u001b[0m\n",
      "\u001b[34mINFO:root:Determined delimiter of CSV input is ','\u001b[0m\n",
      "\u001b[34mINFO:root:Determined delimiter of CSV input is ','\u001b[0m\n",
      "\u001b[34mINFO:root:Single node training.\u001b[0m\n",
      "\u001b[34m[01:20:30] 11153x7 matrix with 78071 entries loaded from /opt/ml/input/data/train?format=csv&label_column=0&delimiter=,\u001b[0m\n",
      "\u001b[34m[01:20:30] 11153x7 matrix with 78071 entries loaded from /opt/ml/input/data/validation?format=csv&label_column=0&delimiter=,\u001b[0m\n",
      "\u001b[34m[2023-11-06 01:20:30.126 ip-10-2-140-176.ec2.internal:7 INFO json_config.py:91] Creating hook from json_config at /opt/ml/input/config/debughookconfig.json.\u001b[0m\n",
      "\u001b[34m[2023-11-06 01:20:30.127 ip-10-2-140-176.ec2.internal:7 INFO hook.py:201] tensorboard_dir has not been set for the hook. SMDebug will not be exporting tensorboard summaries.\u001b[0m\n",
      "\u001b[34m[2023-11-06 01:20:30.127 ip-10-2-140-176.ec2.internal:7 INFO profiler_config_parser.py:102] User has disabled profiler.\u001b[0m\n",
      "\u001b[34m[2023-11-06 01:20:30.128 ip-10-2-140-176.ec2.internal:7 INFO hook.py:255] Saving to /opt/ml/output/tensors\u001b[0m\n",
      "\u001b[34m[2023-11-06 01:20:30.128 ip-10-2-140-176.ec2.internal:7 INFO state_store.py:77] The checkpoint config file /opt/ml/input/config/checkpointconfig.json does not exist.\u001b[0m\n",
      "\u001b[34mINFO:root:Debug hook created from config\u001b[0m\n",
      "\u001b[34mINFO:root:Train matrix has 11153 rows\u001b[0m\n",
      "\u001b[34mINFO:root:Validation matrix has 11153 rows\u001b[0m\n",
      "\u001b[34m[01:20:30] WARNING: /workspace/src/objective/regression_obj.cu:167: reg:linear is now deprecated in favor of reg:squarederror.\u001b[0m\n",
      "\u001b[34m[01:20:30] WARNING: /workspace/src/learner.cc:328: \u001b[0m\n",
      "\u001b[34mParameters: { num_round } might not be used.\n",
      "  This may not be accurate due to some parameters are only used in language bindings but\n",
      "  passed down to XGBoost core.  Or some parameters are not used but slip through this\n",
      "  verification. Please open an issue if you find above cases.\u001b[0m\n",
      "\u001b[34m[0]#011train-rmse:1.04554#011validation-rmse:1.04554\u001b[0m\n",
      "\u001b[34m[2023-11-06 01:20:30.140 ip-10-2-140-176.ec2.internal:7 INFO hook.py:423] Monitoring the collections: metrics\u001b[0m\n",
      "\u001b[34m[2023-11-06 01:20:30.143 ip-10-2-140-176.ec2.internal:7 INFO hook.py:486] Hook is writing from the hook with pid: 7\u001b[0m\n",
      "\u001b[34m[1]#011train-rmse:1.01142#011validation-rmse:1.01142\u001b[0m\n",
      "\u001b[34m[2]#011train-rmse:0.93777#011validation-rmse:0.93777\u001b[0m\n",
      "\u001b[34m[3]#011train-rmse:0.91108#011validation-rmse:0.91108\u001b[0m\n",
      "\u001b[34m[4]#011train-rmse:0.86703#011validation-rmse:0.86703\u001b[0m\n",
      "\u001b[34m[5]#011train-rmse:0.81061#011validation-rmse:0.81061\u001b[0m\n",
      "\u001b[34m[6]#011train-rmse:0.77505#011validation-rmse:0.77505\u001b[0m\n",
      "\u001b[34m[7]#011train-rmse:0.76062#011validation-rmse:0.76062\u001b[0m\n",
      "\u001b[34m[8]#011train-rmse:0.74883#011validation-rmse:0.74883\u001b[0m\n",
      "\u001b[34m[9]#011train-rmse:0.71104#011validation-rmse:0.71104\u001b[0m\n",
      "\u001b[34m[10]#011train-rmse:0.67964#011validation-rmse:0.67964\u001b[0m\n",
      "\u001b[34m[11]#011train-rmse:0.64797#011validation-rmse:0.64797\u001b[0m\n",
      "\u001b[34m[12]#011train-rmse:0.63992#011validation-rmse:0.63992\u001b[0m\n",
      "\u001b[34m[13]#011train-rmse:0.61298#011validation-rmse:0.61298\u001b[0m\n",
      "\u001b[34m[14]#011train-rmse:0.59803#011validation-rmse:0.59803\u001b[0m\n",
      "\u001b[34m[15]#011train-rmse:0.57769#011validation-rmse:0.57769\u001b[0m\n",
      "\u001b[34m[16]#011train-rmse:0.56133#011validation-rmse:0.56133\u001b[0m\n",
      "\u001b[34m[17]#011train-rmse:0.54700#011validation-rmse:0.54700\u001b[0m\n",
      "\u001b[34m[18]#011train-rmse:0.53785#011validation-rmse:0.53785\u001b[0m\n",
      "\u001b[34m[19]#011train-rmse:0.52641#011validation-rmse:0.52641\u001b[0m\n",
      "\u001b[34m[20]#011train-rmse:0.51976#011validation-rmse:0.51976\u001b[0m\n",
      "\u001b[34m[21]#011train-rmse:0.51428#011validation-rmse:0.51428\u001b[0m\n",
      "\u001b[34m[22]#011train-rmse:0.51246#011validation-rmse:0.51246\u001b[0m\n",
      "\u001b[34m[23]#011train-rmse:0.50537#011validation-rmse:0.50537\u001b[0m\n",
      "\u001b[34m[24]#011train-rmse:0.49973#011validation-rmse:0.49973\u001b[0m\n",
      "\u001b[34m[25]#011train-rmse:0.49565#011validation-rmse:0.49565\u001b[0m\n",
      "\u001b[34m[26]#011train-rmse:0.49090#011validation-rmse:0.49090\u001b[0m\n",
      "\u001b[34m[27]#011train-rmse:0.48776#011validation-rmse:0.48776\u001b[0m\n",
      "\u001b[34m[28]#011train-rmse:0.48551#011validation-rmse:0.48551\u001b[0m\n",
      "\u001b[34m[29]#011train-rmse:0.48260#011validation-rmse:0.48260\u001b[0m\n",
      "\u001b[34m[30]#011train-rmse:0.48153#011validation-rmse:0.48153\u001b[0m\n",
      "\u001b[34m[31]#011train-rmse:0.48061#011validation-rmse:0.48061\u001b[0m\n",
      "\u001b[34m[32]#011train-rmse:0.47821#011validation-rmse:0.47821\u001b[0m\n",
      "\u001b[34m[33]#011train-rmse:0.47567#011validation-rmse:0.47567\u001b[0m\n",
      "\u001b[34m[34]#011train-rmse:0.47410#011validation-rmse:0.47410\u001b[0m\n",
      "\u001b[34m[35]#011train-rmse:0.47228#011validation-rmse:0.47228\u001b[0m\n",
      "\u001b[34m[36]#011train-rmse:0.47054#011validation-rmse:0.47054\u001b[0m\n",
      "\u001b[34m[37]#011train-rmse:0.46994#011validation-rmse:0.46994\u001b[0m\n",
      "\u001b[34m[38]#011train-rmse:0.46953#011validation-rmse:0.46953\u001b[0m\n",
      "\u001b[34m[39]#011train-rmse:0.46810#011validation-rmse:0.46810\u001b[0m\n",
      "\u001b[34m[40]#011train-rmse:0.46665#011validation-rmse:0.46665\u001b[0m\n",
      "\u001b[34m[41]#011train-rmse:0.46533#011validation-rmse:0.46533\u001b[0m\n",
      "\u001b[34m[42]#011train-rmse:0.46454#011validation-rmse:0.46454\u001b[0m\n",
      "\u001b[34m[43]#011train-rmse:0.46365#011validation-rmse:0.46365\u001b[0m\n",
      "\u001b[34m[44]#011train-rmse:0.46278#011validation-rmse:0.46278\u001b[0m\n",
      "\u001b[34m[45]#011train-rmse:0.46215#011validation-rmse:0.46215\u001b[0m\n",
      "\u001b[34m[46]#011train-rmse:0.46171#011validation-rmse:0.46171\u001b[0m\n",
      "\u001b[34m[47]#011train-rmse:0.46113#011validation-rmse:0.46113\u001b[0m\n",
      "\u001b[34m[48]#011train-rmse:0.46072#011validation-rmse:0.46072\u001b[0m\n",
      "\u001b[34m[49]#011train-rmse:0.46005#011validation-rmse:0.46005\u001b[0m\n",
      "\u001b[34m[50]#011train-rmse:0.45951#011validation-rmse:0.45951\u001b[0m\n",
      "\u001b[34m[51]#011train-rmse:0.45924#011validation-rmse:0.45924\u001b[0m\n",
      "\u001b[34m[52]#011train-rmse:0.45853#011validation-rmse:0.45853\u001b[0m\n",
      "\u001b[34m[53]#011train-rmse:0.45801#011validation-rmse:0.45801\u001b[0m\n",
      "\u001b[34m[54]#011train-rmse:0.45715#011validation-rmse:0.45715\u001b[0m\n",
      "\u001b[34m[55]#011train-rmse:0.45678#011validation-rmse:0.45678\u001b[0m\n",
      "\u001b[34m[56]#011train-rmse:0.45623#011validation-rmse:0.45623\u001b[0m\n",
      "\u001b[34m[57]#011train-rmse:0.45608#011validation-rmse:0.45608\u001b[0m\n",
      "\u001b[34m[58]#011train-rmse:0.45566#011validation-rmse:0.45566\u001b[0m\n",
      "\u001b[34m[59]#011train-rmse:0.45533#011validation-rmse:0.45533\u001b[0m\n",
      "\u001b[34m[60]#011train-rmse:0.45480#011validation-rmse:0.45480\u001b[0m\n",
      "\u001b[34m[61]#011train-rmse:0.45419#011validation-rmse:0.45419\u001b[0m\n",
      "\u001b[34m[62]#011train-rmse:0.45372#011validation-rmse:0.45372\u001b[0m\n",
      "\u001b[34m[63]#011train-rmse:0.45329#011validation-rmse:0.45329\u001b[0m\n",
      "\u001b[34m[64]#011train-rmse:0.45306#011validation-rmse:0.45306\u001b[0m\n",
      "\u001b[34m[65]#011train-rmse:0.45286#011validation-rmse:0.45286\u001b[0m\n",
      "\u001b[34m[66]#011train-rmse:0.45261#011validation-rmse:0.45261\u001b[0m\n",
      "\u001b[34m[67]#011train-rmse:0.45227#011validation-rmse:0.45227\u001b[0m\n",
      "\u001b[34m[68]#011train-rmse:0.45217#011validation-rmse:0.45217\u001b[0m\n",
      "\u001b[34m[69]#011train-rmse:0.45167#011validation-rmse:0.45167\u001b[0m\n",
      "\u001b[34m[70]#011train-rmse:0.45156#011validation-rmse:0.45156\u001b[0m\n",
      "\u001b[34m[71]#011train-rmse:0.45122#011validation-rmse:0.45122\u001b[0m\n",
      "\u001b[34m[72]#011train-rmse:0.45077#011validation-rmse:0.45077\u001b[0m\n",
      "\u001b[34m[73]#011train-rmse:0.45058#011validation-rmse:0.45058\u001b[0m\n",
      "\u001b[34m[74]#011train-rmse:0.45046#011validation-rmse:0.45046\u001b[0m\n",
      "\u001b[34m[75]#011train-rmse:0.45012#011validation-rmse:0.45012\u001b[0m\n",
      "\u001b[34m[76]#011train-rmse:0.44955#011validation-rmse:0.44955\u001b[0m\n",
      "\u001b[34m[77]#011train-rmse:0.44925#011validation-rmse:0.44925\u001b[0m\n",
      "\u001b[34m[78]#011train-rmse:0.44916#011validation-rmse:0.44916\u001b[0m\n",
      "\u001b[34m[79]#011train-rmse:0.44847#011validation-rmse:0.44847\u001b[0m\n",
      "\u001b[34m[80]#011train-rmse:0.44789#011validation-rmse:0.44789\u001b[0m\n",
      "\u001b[34m[81]#011train-rmse:0.44738#011validation-rmse:0.44738\u001b[0m\n",
      "\u001b[34m[82]#011train-rmse:0.44728#011validation-rmse:0.44728\u001b[0m\n",
      "\u001b[34m[83]#011train-rmse:0.44708#011validation-rmse:0.44708\u001b[0m\n",
      "\u001b[34m[84]#011train-rmse:0.44643#011validation-rmse:0.44643\u001b[0m\n",
      "\u001b[34m[85]#011train-rmse:0.44624#011validation-rmse:0.44624\u001b[0m\n",
      "\u001b[34m[86]#011train-rmse:0.44591#011validation-rmse:0.44591\u001b[0m\n",
      "\u001b[34m[87]#011train-rmse:0.44571#011validation-rmse:0.44571\u001b[0m\n",
      "\u001b[34m[88]#011train-rmse:0.44546#011validation-rmse:0.44546\u001b[0m\n",
      "\u001b[34m[89]#011train-rmse:0.44525#011validation-rmse:0.44525\u001b[0m\n",
      "\u001b[34m[90]#011train-rmse:0.44504#011validation-rmse:0.44504\u001b[0m\n",
      "\u001b[34m[91]#011train-rmse:0.44475#011validation-rmse:0.44475\u001b[0m\n",
      "\u001b[34m[92]#011train-rmse:0.44440#011validation-rmse:0.44440\u001b[0m\n",
      "\u001b[34m[93]#011train-rmse:0.44402#011validation-rmse:0.44402\u001b[0m\n",
      "\u001b[34m[94]#011train-rmse:0.44385#011validation-rmse:0.44385\u001b[0m\n",
      "\u001b[34m[95]#011train-rmse:0.44359#011validation-rmse:0.44359\u001b[0m\n",
      "\u001b[34m[96]#011train-rmse:0.44283#011validation-rmse:0.44283\u001b[0m\n",
      "\u001b[34m[97]#011train-rmse:0.44249#011validation-rmse:0.44249\u001b[0m\n",
      "\u001b[34m[98]#011train-rmse:0.44239#011validation-rmse:0.44239\u001b[0m\n",
      "\u001b[34m[99]#011train-rmse:0.44188#011validation-rmse:0.44188\u001b[0m\n",
      "\n",
      "2023-11-06 01:20:49 Uploading - Uploading generated training model\n",
      "2023-11-06 01:20:49 Completed - Training job completed\n",
      "Training seconds: 112\n",
      "Billable seconds: 49\n",
      "Managed Spot Training savings: 56.2%\n"
     ]
    }
   ],
   "source": [
    "estimator.fit({'train':s3_input_train,'validation':s3_input_test})"
   ]
  },
  {
   "cell_type": "markdown",
   "id": "6670bac6",
   "metadata": {},
   "source": [
    "# xgb predictor helps to send input data for inference and receive prediction from the deployment in xgboost model."
   ]
  },
  {
   "cell_type": "code",
   "execution_count": 37,
   "id": "42436a45",
   "metadata": {},
   "outputs": [
    {
     "name": "stderr",
     "output_type": "stream",
     "text": [
      "INFO:sagemaker:Creating model with name: sagemaker-xgboost-2023-11-06-01-21-32-833\n",
      "INFO:sagemaker:Creating endpoint-config with name sagemaker-xgboost-2023-11-06-01-21-32-833\n",
      "INFO:sagemaker:Creating endpoint with name sagemaker-xgboost-2023-11-06-01-21-32-833\n"
     ]
    },
    {
     "name": "stdout",
     "output_type": "stream",
     "text": [
      "------!"
     ]
    }
   ],
   "source": [
    "xgb_predictor = estimator.deploy(initial_instance_count=1,instance_type='ml.m4.xlarge')"
   ]
  },
  {
   "cell_type": "markdown",
   "id": "c8e3a411",
   "metadata": {},
   "source": [
    "# Making prediction that deploys in xgboost model and prints out the shape of the prediction array"
   ]
  },
  {
   "cell_type": "code",
   "execution_count": 38,
   "id": "21473f38",
   "metadata": {},
   "outputs": [
    {
     "data": {
      "text/plain": [
       "Index(['year', 'hectares (ha)', 'yield(tonnes/ha)', 'production (tonnes)',\n",
       "       'crop_maize', 'crop_spring wheat', 'crop_wheat', 'crop_winter wheat'],\n",
       "      dtype='object')"
      ]
     },
     "execution_count": 38,
     "metadata": {},
     "output_type": "execute_result"
    }
   ],
   "source": [
    "test_data.columns"
   ]
  },
  {
   "cell_type": "code",
   "execution_count": 39,
   "id": "1816f937",
   "metadata": {},
   "outputs": [
    {
     "name": "stdout",
     "output_type": "stream",
     "text": [
      "(4781,)\n"
     ]
    }
   ],
   "source": [
    "from sagemaker.serializers import CSVSerializer\n",
    "test_data_array = test_data.drop(columns=['production (tonnes)'],axis=1).values\n",
    "\n",
    "xgb_predictor.serializer = CSVSerializer()\n",
    "\n",
    "predictions = xgb_predictor.predict(test_data_array).decode('utf-8')\n",
    "\n",
    "predictions_array = np.fromstring(predictions[1:],sep=',')\n",
    "print(predictions_array.shape)"
   ]
  },
  {
   "cell_type": "code",
   "execution_count": 40,
   "id": "f2e12e87",
   "metadata": {},
   "outputs": [
    {
     "name": "stdout",
     "output_type": "stream",
     "text": [
      "-1.3628668785095215\n",
      "1.338490605354309\n"
     ]
    }
   ],
   "source": [
    "print(np.min(predictions_array))\n",
    "print(np.max(predictions_array))\n"
   ]
  },
  {
   "cell_type": "code",
   "execution_count": 41,
   "id": "0b85d1dd",
   "metadata": {},
   "outputs": [],
   "source": [
    "X_test = test_data.drop(columns=['production (tonnes)']) \n",
    "y_true = test_data['production (tonnes)'].values\n",
    "# Make predictionspredictions = xgb_predict(X_test) # Calculate RMSErmse = np.sqrt(((y_true - predictions) ** 2).mean())print(f'RMSE: {rmse}')"
   ]
  },
  {
   "cell_type": "markdown",
   "id": "50f63cc4",
   "metadata": {},
   "source": [
    "# Plotting the results"
   ]
  },
  {
   "cell_type": "code",
   "execution_count": 42,
   "id": "1633321d",
   "metadata": {},
   "outputs": [
    {
     "name": "stdout",
     "output_type": "stream",
     "text": [
      "(4781,)\n"
     ]
    },
    {
     "name": "stderr",
     "output_type": "stream",
     "text": [
      "/tmp/ipykernel_11429/491232514.py:6: UserWarning: color is redundantly defined by the 'color' keyword argument and the fmt string \"k--\" (-> color='k'). The keyword argument will take precedence.\n",
      "  plt.plot([test_data_production.min(), test_data_production.max()], [test_data_production.min(), test_data_production.max()], 'k--', c='red', lw=3, label='Perfect Prediction')\n"
     ]
    },
    {
     "data": {
      "image/png": "[encoded data removed]",
      "text/plain": [
       "<Figure size 1500x1000 with 1 Axes>"
      ]
     },
     "metadata": {},
     "output_type": "display_data"
    }
   ],
   "source": [
    "import matplotlib.pyplot as plt\n",
    "test_data_production = test_data['production (tonnes)'].values\n",
    "print(test_data_production.shape)\n",
    "plt.figure(figsize=(15,10))\n",
    "plt.scatter(test_data_production, predictions_array, c='b', label='Predictions vs. Actual')\n",
    "plt.plot([test_data_production.min(), test_data_production.max()], [test_data_production.min(), test_data_production.max()], 'k--', c='red', lw=3, label='Perfect Prediction')\n",
    "plt.xlabel('Actuals')\n",
    "plt.ylabel('Predicted Values')\n",
    "plt.legend()\n",
    "plt.title('Predictions vs. Actual Values')\n",
    "plt.show()"
   ]
  },
  {
   "cell_type": "code",
   "execution_count": 207,
   "id": "fbf71a3b",
   "metadata": {},
   "outputs": [
    {
     "name": "stdout",
     "output_type": "stream",
     "text": [
      "1.4929375648498535\n"
     ]
    }
   ],
   "source": [
    "print(np.max(predictions_array))"
   ]
  },
  {
   "cell_type": "markdown",
   "id": "2e4319b3",
   "metadata": {},
   "source": [
    "# We tried our best to get good prediction but we didn't manage"
   ]
  },
  {
   "cell_type": "markdown",
   "id": "7b68b0fb",
   "metadata": {},
   "source": [
    "# Clean up the resources after deploying the amazon sagemaker"
   ]
  },
  {
   "cell_type": "code",
   "execution_count": null,
   "id": "a3337c09",
   "metadata": {},
   "outputs": [],
   "source": [
    "sagemaker.Session().delete_endpoint(xgb_predictor.endpoint)\n",
    "buckte_to_delete=boto3.resource('s3').Bucket(bucket_name)\n",
    "bucket_to_delete.objects.all().delete()"
   ]
  }
 ],
 "metadata": {
  "kernelspec": {
   "display_name": "conda_pytorch_p310",
   "language": "python",
   "name": "conda_pytorch_p310"
  },
  "language_info": {
   "codemirror_mode": {
    "name": "ipython",
    "version": 3
   },
   "file_extension": ".py",
   "mimetype": "text/x-python",
   "name": "python",
   "nbconvert_exporter": "python",
   "pygments_lexer": "ipython3",
   "version": "3.10.12"
  }
 },
 "nbformat": 4,
 "nbformat_minor": 5
}
