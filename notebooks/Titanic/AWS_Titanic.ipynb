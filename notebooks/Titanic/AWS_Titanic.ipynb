{
 "cells": [
  {
   "cell_type": "markdown",
   "id": "3384c636",
   "metadata": {},
   "source": [
    "# Importing the models"
   ]
  },
  {
   "cell_type": "code",
   "execution_count": 1,
   "id": "4b3be6d3",
   "metadata": {},
   "outputs": [
    {
     "name": "stdout",
     "output_type": "stream",
     "text": [
      "sagemaker.config INFO - Not applying SDK defaults from location: /etc/xdg/sagemaker/config.yaml\n",
      "sagemaker.config INFO - Not applying SDK defaults from location: /home/ec2-user/.config/sagemaker/config.yaml\n"
     ]
    }
   ],
   "source": [
    "import sagemaker\n",
    "import boto3\n",
    "from sagemaker.amazon.amazon_estimator import get_image_uri\n",
    "from sagemaker.session import s3_input,Session"
   ]
  },
  {
   "cell_type": "markdown",
   "id": "8404628a",
   "metadata": {},
   "source": [
    "# Creating the variables of bucket name and region of aws"
   ]
  },
  {
   "cell_type": "code",
   "execution_count": 2,
   "id": "4122365b",
   "metadata": {},
   "outputs": [
    {
     "name": "stdout",
     "output_type": "stream",
     "text": [
      "us-east-1\n"
     ]
    }
   ],
   "source": [
    "bucket_name = 'aws-titanic'\n",
    "my_region = boto3.session.Session().region_name\n",
    "print(my_region)"
   ]
  },
  {
   "cell_type": "markdown",
   "id": "aede7031",
   "metadata": {},
   "source": [
    "# Figuring out if the S3 bucket is in the us-east or not"
   ]
  },
  {
   "cell_type": "code",
   "execution_count": 3,
   "id": "b93b2940",
   "metadata": {},
   "outputs": [
    {
     "name": "stdout",
     "output_type": "stream",
     "text": [
      "S3 bucket created successfully\n"
     ]
    }
   ],
   "source": [
    "s3=boto3.resource('s3')\n",
    "try:\n",
    "    if my_region=='us-east-1':\n",
    "        s3.create_bucket(Bucket= bucket_name)\n",
    "    print('S3 bucket created successfully')\n",
    "except Exception as e:\n",
    "    print('S3 error:',e)"
   ]
  },
  {
   "cell_type": "markdown",
   "id": "6c729a58",
   "metadata": {},
   "source": [
    "# Gernerating the S3 path for storing the output data with given prefix"
   ]
  },
  {
   "cell_type": "code",
   "execution_count": 4,
   "id": "5a9e252f",
   "metadata": {},
   "outputs": [
    {
     "name": "stdout",
     "output_type": "stream",
     "text": [
      "s3://aws-titanic/xgboost-as-a-built-in-algo/output\n"
     ]
    }
   ],
   "source": [
    "prefix= 'xgboost-as-a-built-in-algo'\n",
    "output_path = 's3://{}/{}/output'.format(bucket_name,prefix)\n",
    "print(output_path)"
   ]
  },
  {
   "cell_type": "markdown",
   "id": "c14e9db2",
   "metadata": {},
   "source": [
    "# Importing the dataset using pandas library"
   ]
  },
  {
   "cell_type": "code",
   "execution_count": 8,
   "id": "b25c14af",
   "metadata": {},
   "outputs": [
    {
     "name": "stdout",
     "output_type": "stream",
     "text": [
      "Success: Data loaded into dataframe.\n"
     ]
    }
   ],
   "source": [
    "import pandas as pd\n",
    "df = pd.read_excel('./titanic3.xlsx')\n",
    "print('Success: Data loaded into dataframe.')"
   ]
  },
  {
   "cell_type": "markdown",
   "id": "13e3d9a7",
   "metadata": {},
   "source": [
    "# Creating a train data and test data with random state"
   ]
  },
  {
   "cell_type": "code",
   "execution_count": 9,
   "id": "48a49280",
   "metadata": {},
   "outputs": [
    {
     "data": {
      "text/html": [
       "<div>\n",
       "<style scoped>\n",
       "    .dataframe tbody tr th:only-of-type {\n",
       "        vertical-align: middle;\n",
       "    }\n",
       "\n",
       "    .dataframe tbody tr th {\n",
       "        vertical-align: top;\n",
       "    }\n",
       "\n",
       "    .dataframe thead th {\n",
       "        text-align: right;\n",
       "    }\n",
       "</style>\n",
       "<table border=\"1\" class=\"dataframe\">\n",
       "  <thead>\n",
       "    <tr style=\"text-align: right;\">\n",
       "      <th></th>\n",
       "      <th>pclass</th>\n",
       "      <th>survived</th>\n",
       "      <th>age</th>\n",
       "      <th>sibsp</th>\n",
       "      <th>parch</th>\n",
       "      <th>fare</th>\n",
       "      <th>boat</th>\n",
       "      <th>body</th>\n",
       "      <th>title_encoded</th>\n",
       "      <th>sex_female</th>\n",
       "      <th>sex_male</th>\n",
       "    </tr>\n",
       "  </thead>\n",
       "  <tbody>\n",
       "    <tr>\n",
       "      <th>0</th>\n",
       "      <td>-1.434601</td>\n",
       "      <td>1</td>\n",
       "      <td>-0.059228</td>\n",
       "      <td>-0.551897</td>\n",
       "      <td>-0.501462</td>\n",
       "      <td>3.135243</td>\n",
       "      <td>1.320890</td>\n",
       "      <td>-0.357055</td>\n",
       "      <td>0.152718</td>\n",
       "      <td>1.301268</td>\n",
       "      <td>-1.301268</td>\n",
       "    </tr>\n",
       "    <tr>\n",
       "      <th>1</th>\n",
       "      <td>-1.434601</td>\n",
       "      <td>1</td>\n",
       "      <td>-2.011855</td>\n",
       "      <td>0.544553</td>\n",
       "      <td>1.880484</td>\n",
       "      <td>2.061972</td>\n",
       "      <td>1.339498</td>\n",
       "      <td>-0.357055</td>\n",
       "      <td>1.878024</td>\n",
       "      <td>-0.768481</td>\n",
       "      <td>0.768481</td>\n",
       "    </tr>\n",
       "    <tr>\n",
       "      <th>2</th>\n",
       "      <td>-1.434601</td>\n",
       "      <td>0</td>\n",
       "      <td>-1.936534</td>\n",
       "      <td>0.544553</td>\n",
       "      <td>1.880484</td>\n",
       "      <td>2.061972</td>\n",
       "      <td>-0.748661</td>\n",
       "      <td>-0.357055</td>\n",
       "      <td>0.152718</td>\n",
       "      <td>1.301268</td>\n",
       "      <td>-1.301268</td>\n",
       "    </tr>\n",
       "    <tr>\n",
       "      <th>3</th>\n",
       "      <td>-1.434601</td>\n",
       "      <td>0</td>\n",
       "      <td>0.010302</td>\n",
       "      <td>0.544553</td>\n",
       "      <td>1.880484</td>\n",
       "      <td>2.061972</td>\n",
       "      <td>-0.748661</td>\n",
       "      <td>2.710703</td>\n",
       "      <td>-0.709934</td>\n",
       "      <td>-0.768481</td>\n",
       "      <td>0.768481</td>\n",
       "    </tr>\n",
       "    <tr>\n",
       "      <th>4</th>\n",
       "      <td>-1.434601</td>\n",
       "      <td>0</td>\n",
       "      <td>-0.337347</td>\n",
       "      <td>0.544553</td>\n",
       "      <td>1.880484</td>\n",
       "      <td>2.061972</td>\n",
       "      <td>-0.748661</td>\n",
       "      <td>-0.357055</td>\n",
       "      <td>1.015371</td>\n",
       "      <td>1.301268</td>\n",
       "      <td>-1.301268</td>\n",
       "    </tr>\n",
       "    <tr>\n",
       "      <th>...</th>\n",
       "      <td>...</td>\n",
       "      <td>...</td>\n",
       "      <td>...</td>\n",
       "      <td>...</td>\n",
       "      <td>...</td>\n",
       "      <td>...</td>\n",
       "      <td>...</td>\n",
       "      <td>...</td>\n",
       "      <td>...</td>\n",
       "      <td>...</td>\n",
       "      <td>...</td>\n",
       "    </tr>\n",
       "    <tr>\n",
       "      <th>1301</th>\n",
       "      <td>0.943128</td>\n",
       "      <td>0</td>\n",
       "      <td>1.088014</td>\n",
       "      <td>-0.551897</td>\n",
       "      <td>-0.501462</td>\n",
       "      <td>-0.528869</td>\n",
       "      <td>-0.748661</td>\n",
       "      <td>3.189533</td>\n",
       "      <td>-0.709934</td>\n",
       "      <td>-0.768481</td>\n",
       "      <td>0.768481</td>\n",
       "    </tr>\n",
       "    <tr>\n",
       "      <th>1304</th>\n",
       "      <td>0.943128</td>\n",
       "      <td>0</td>\n",
       "      <td>-1.067411</td>\n",
       "      <td>0.544553</td>\n",
       "      <td>-0.501462</td>\n",
       "      <td>-0.399094</td>\n",
       "      <td>-0.748661</td>\n",
       "      <td>3.232817</td>\n",
       "      <td>0.152718</td>\n",
       "      <td>1.301268</td>\n",
       "      <td>-1.301268</td>\n",
       "    </tr>\n",
       "    <tr>\n",
       "      <th>1306</th>\n",
       "      <td>0.943128</td>\n",
       "      <td>0</td>\n",
       "      <td>-0.233052</td>\n",
       "      <td>-0.551897</td>\n",
       "      <td>-0.501462</td>\n",
       "      <td>-0.528869</td>\n",
       "      <td>-0.748661</td>\n",
       "      <td>3.167891</td>\n",
       "      <td>-0.709934</td>\n",
       "      <td>-0.768481</td>\n",
       "      <td>0.768481</td>\n",
       "    </tr>\n",
       "    <tr>\n",
       "      <th>1307</th>\n",
       "      <td>0.943128</td>\n",
       "      <td>0</td>\n",
       "      <td>-0.198288</td>\n",
       "      <td>-0.551897</td>\n",
       "      <td>-0.501462</td>\n",
       "      <td>-0.528869</td>\n",
       "      <td>-0.748661</td>\n",
       "      <td>-0.357055</td>\n",
       "      <td>-0.709934</td>\n",
       "      <td>-0.768481</td>\n",
       "      <td>0.768481</td>\n",
       "    </tr>\n",
       "    <tr>\n",
       "      <th>1308</th>\n",
       "      <td>0.943128</td>\n",
       "      <td>0</td>\n",
       "      <td>-0.059228</td>\n",
       "      <td>-0.551897</td>\n",
       "      <td>-0.501462</td>\n",
       "      <td>-0.517200</td>\n",
       "      <td>-0.748661</td>\n",
       "      <td>-0.357055</td>\n",
       "      <td>-0.709934</td>\n",
       "      <td>-0.768481</td>\n",
       "      <td>0.768481</td>\n",
       "    </tr>\n",
       "  </tbody>\n",
       "</table>\n",
       "<p>1045 rows × 11 columns</p>\n",
       "</div>"
      ],
      "text/plain": [
       "        pclass  survived       age     sibsp     parch      fare      boat  \\\n",
       "0    -1.434601         1 -0.059228 -0.551897 -0.501462  3.135243  1.320890   \n",
       "1    -1.434601         1 -2.011855  0.544553  1.880484  2.061972  1.339498   \n",
       "2    -1.434601         0 -1.936534  0.544553  1.880484  2.061972 -0.748661   \n",
       "3    -1.434601         0  0.010302  0.544553  1.880484  2.061972 -0.748661   \n",
       "4    -1.434601         0 -0.337347  0.544553  1.880484  2.061972 -0.748661   \n",
       "...        ...       ...       ...       ...       ...       ...       ...   \n",
       "1301  0.943128         0  1.088014 -0.551897 -0.501462 -0.528869 -0.748661   \n",
       "1304  0.943128         0 -1.067411  0.544553 -0.501462 -0.399094 -0.748661   \n",
       "1306  0.943128         0 -0.233052 -0.551897 -0.501462 -0.528869 -0.748661   \n",
       "1307  0.943128         0 -0.198288 -0.551897 -0.501462 -0.528869 -0.748661   \n",
       "1308  0.943128         0 -0.059228 -0.551897 -0.501462 -0.517200 -0.748661   \n",
       "\n",
       "          body  title_encoded  sex_female  sex_male  \n",
       "0    -0.357055       0.152718    1.301268 -1.301268  \n",
       "1    -0.357055       1.878024   -0.768481  0.768481  \n",
       "2    -0.357055       0.152718    1.301268 -1.301268  \n",
       "3     2.710703      -0.709934   -0.768481  0.768481  \n",
       "4    -0.357055       1.015371    1.301268 -1.301268  \n",
       "...        ...            ...         ...       ...  \n",
       "1301  3.189533      -0.709934   -0.768481  0.768481  \n",
       "1304  3.232817       0.152718    1.301268 -1.301268  \n",
       "1306  3.167891      -0.709934   -0.768481  0.768481  \n",
       "1307 -0.357055      -0.709934   -0.768481  0.768481  \n",
       "1308 -0.357055      -0.709934   -0.768481  0.768481  \n",
       "\n",
       "[1045 rows x 11 columns]"
      ]
     },
     "execution_count": 9,
     "metadata": {},
     "output_type": "execute_result"
    }
   ],
   "source": [
    "from sklearn.preprocessing import StandardScaler\n",
    "#dropping the age column because it contains too many null values to impute with mean\n",
    "df.dropna(subset=['age'], inplace=True)\n",
    "#dropping any rows with null values for fare (only 1)\n",
    "df.dropna(subset=['fare'], inplace=True)\n",
    "#extracting the title of each person on board from the name column\n",
    "df['title'] = df['name'].str.extract(r',\\s*([^\\.]*)\\.', expand=False).str.strip()\n",
    "# create dictionary to map titles to encoded values\n",
    "title_encoding = {'Mr': 1, 'Miss': 2, 'Mrs': 3, 'Master': 4, 'Rev': 5, 'Dr': 5, 'Col': 5, \n",
    "                  'Mlle': 6, 'Ms': 6, 'Major': 6, 'Capt': 6, 'Sir': 7, 'Dona': 7, 'Jonkheer': 7, \n",
    "                  'the Countess': 7, 'Don': 8, 'Mme': 8, 'Lady': 8}\n",
    "# map titles to encoded values\n",
    "df['title_encoded'] = df['title'].map(title_encoding)\n",
    "columns_to_encode = ['sex']\n",
    "df = pd.get_dummies(df, columns=columns_to_encode)\n",
    "\n",
    "df['boat'].fillna(-999, inplace=True)\n",
    "df['body'].fillna(-999, inplace=True)\n",
    "\n",
    "# convert the series to numeric type\n",
    "df['boat'] = pd.to_numeric(df['boat'], errors='coerce')\n",
    "\n",
    "columns_to_drop = ['cabin', 'home.dest', 'embarked', 'name', 'ticket', 'title']\n",
    "df.drop(columns=columns_to_drop, axis=1, inplace=True)\n",
    "# select numerical columns to normalize\n",
    "numerical_cols = ['pclass', 'age', 'sibsp', 'parch', 'fare', 'boat', 'body', 'title_encoded', 'sex_male', 'sex_female']\n",
    "# create scaler object\n",
    "scaler = StandardScaler()\n",
    "# fit and transform selected columns\n",
    "df[numerical_cols] = scaler.fit_transform(df[numerical_cols])\n",
    "df"
   ]
  },
  {
   "cell_type": "markdown",
   "id": "a5397b22",
   "metadata": {},
   "source": [
    "# Creating a train and test data set with random state"
   ]
  },
  {
   "cell_type": "code",
   "execution_count": 10,
   "id": "70dd4616",
   "metadata": {},
   "outputs": [
    {
     "name": "stdout",
     "output_type": "stream",
     "text": [
      "(731, 11) (314, 11)\n"
     ]
    }
   ],
   "source": [
    "import numpy as np\n",
    "train_data,test_data = np.split(df.sample(frac=1,random_state=1729),[int(0.7*len(df))])\n",
    "print(train_data.shape,test_data.shape)"
   ]
  },
  {
   "cell_type": "markdown",
   "id": "747dee86",
   "metadata": {},
   "source": [
    "# Converting training data set into csv and upload it to S3"
   ]
  },
  {
   "cell_type": "code",
   "execution_count": 11,
   "id": "f169ab37",
   "metadata": {},
   "outputs": [],
   "source": [
    "import os\n",
    "from sagemaker.inputs import TrainingInput\n",
    "file_name = 'train.csv'\n",
    "pd.concat([train_data['survived'],train_data.drop(['survived','body'],axis=1)],axis=1).to_csv('train.csv',index=False,header=False)\n",
    "boto3.Session().resource('s3').Bucket(bucket_name).Object(os.path.join(prefix,'train/train.csv')).upload_file(file_name)\n",
    "s3_input_train = TrainingInput(s3_data='s3://{}/{}/train'.format(bucket_name, prefix), content_type='csv')"
   ]
  },
  {
   "cell_type": "markdown",
   "id": "ab4319a1",
   "metadata": {},
   "source": [
    "# Converting test data set into csv and upload it to S3"
   ]
  },
  {
   "cell_type": "code",
   "execution_count": 12,
   "id": "165060d7",
   "metadata": {},
   "outputs": [],
   "source": [
    "file_name = 'test.csv'\n",
    "pd.concat([test_data['survived'],test_data.drop(['survived','body'],axis=1)],axis=1).to_csv('test.csv',index=False,header=False)\n",
    "boto3.Session().resource('s3').Bucket(bucket_name).Object(os.path.join(prefix,'test/test.csv')).upload_file(file_name)\n",
    "s3_input_test = TrainingInput(s3_data='s3://{}/{}/test'.format(bucket_name,prefix),content_type='csv')"
   ]
  },
  {
   "cell_type": "markdown",
   "id": "7edd74bb",
   "metadata": {},
   "source": [
    "# Container helps to hold uri for the xgboost container image. It helps to used for the sagemaker tasks like training model."
   ]
  },
  {
   "cell_type": "code",
   "execution_count": 13,
   "id": "825ce2d2",
   "metadata": {},
   "outputs": [],
   "source": [
    "import sagemaker\n",
    "container = sagemaker.image_uris.retrieve(\n",
    "    framework=\"xgboost\",\n",
    "    region=boto3.Session().region_name,\n",
    "    version=\"1.0-1\"\n",
    ")"
   ]
  },
  {
   "cell_type": "markdown",
   "id": "b6c9edc0",
   "metadata": {},
   "source": [
    "# Hyperparameters helps to control the XGBoost algorithm behavior"
   ]
  },
  {
   "cell_type": "code",
   "execution_count": 14,
   "id": "41753d26",
   "metadata": {},
   "outputs": [],
   "source": [
    "hyperparameters={\n",
    "    \"max_depth\":\"5\",\n",
    "    \"eta\":\"0.2\",\n",
    "    \"gamma\":\"4\",\n",
    "    \"min_child_weight\":\"6\",\n",
    "    \"subsample\":\"0.7\",\n",
    "    \"objective\":\"binary:logistic\",\n",
    "    \"num_round\": \"100\",\n",
    "}"
   ]
  },
  {
   "cell_type": "markdown",
   "id": "8c94462f",
   "metadata": {},
   "source": [
    "# Setup of the sagemaker estimator to configure the training model "
   ]
  },
  {
   "cell_type": "code",
   "execution_count": 15,
   "id": "6b593644",
   "metadata": {},
   "outputs": [
    {
     "name": "stdout",
     "output_type": "stream",
     "text": [
      "sagemaker.config INFO - Not applying SDK defaults from location: /etc/xdg/sagemaker/config.yaml\n",
      "sagemaker.config INFO - Not applying SDK defaults from location: /home/ec2-user/.config/sagemaker/config.yaml\n",
      "sagemaker.config INFO - Not applying SDK defaults from location: /etc/xdg/sagemaker/config.yaml\n",
      "sagemaker.config INFO - Not applying SDK defaults from location: /home/ec2-user/.config/sagemaker/config.yaml\n"
     ]
    }
   ],
   "source": [
    "estimator = sagemaker.estimator.Estimator(\n",
    "    image_uri=container,\n",
    "    hyperparameters=hyperparameters,\n",
    "    role=sagemaker.get_execution_role(),\n",
    "    instance_count=1,  # Update this line\n",
    "    instance_type='ml.m5.2xlarge',  # Update this line\n",
    "    volume_size=5,  # Update this line\n",
    "    output_path=output_path,\n",
    "    use_spot_instances=True,  # Update this line\n",
    "    max_run=300,  # Update this line\n",
    "    max_wait=600,# Update this line\n",
    "      # Add TrainingImageConfig to specify your private Docker registry\n",
    "    training_image_config={\n",
    "        \"RepositoryAccessMode\": \"Vpc\",  # Specify Vpc if it's a private Docker registry\n",
    "        # Add any other required configurations for your private registry\n",
    "    },\n",
    ")"
   ]
  },
  {
   "cell_type": "code",
   "execution_count": 16,
   "id": "ab6265da",
   "metadata": {},
   "outputs": [
    {
     "name": "stderr",
     "output_type": "stream",
     "text": [
      "INFO:sagemaker:Creating training-job with name: sagemaker-xgboost-2023-11-05-19-20-50-185\n"
     ]
    },
    {
     "name": "stdout",
     "output_type": "stream",
     "text": [
      "2023-11-05 19:20:50 Starting - Starting the training job...\n",
      "2023-11-05 19:21:06 Starting - Preparing the instances for training.........\n",
      "2023-11-05 19:22:38 Downloading - Downloading input data...\n",
      "2023-11-05 19:23:18 Training - Training image download completed. Training in progress....\n",
      "2023-11-05 19:23:49 Uploading - Uploading generated training model.\u001b[34m[2023-11-05 19:23:41.784 ip-10-0-191-95.ec2.internal:7 INFO utils.py:27] RULE_JOB_STOP_SIGNAL_FILENAME: None\u001b[0m\n",
      "\u001b[34mINFO:sagemaker-containers:Imported framework sagemaker_xgboost_container.training\u001b[0m\n",
      "\u001b[34mINFO:sagemaker-containers:Failed to parse hyperparameter objective value binary:logistic to Json.\u001b[0m\n",
      "\u001b[34mReturning the value itself\u001b[0m\n",
      "\u001b[34mINFO:sagemaker-containers:No GPUs detected (normal if no gpus installed)\u001b[0m\n",
      "\u001b[34mINFO:sagemaker_xgboost_container.training:Running XGBoost Sagemaker in algorithm mode\u001b[0m\n",
      "\u001b[34mINFO:root:Determined delimiter of CSV input is ','\u001b[0m\n",
      "\u001b[34mINFO:root:Determined delimiter of CSV input is ','\u001b[0m\n",
      "\u001b[34mINFO:root:Determined delimiter of CSV input is ','\u001b[0m\n",
      "\u001b[34mINFO:root:Determined delimiter of CSV input is ','\u001b[0m\n",
      "\u001b[34mINFO:root:Single node training.\u001b[0m\n",
      "\u001b[34m[19:23:41] 731x9 matrix with 6579 entries loaded from /opt/ml/input/data/train?format=csv&label_column=0&delimiter=,\u001b[0m\n",
      "\u001b[34m[19:23:41] 314x9 matrix with 2826 entries loaded from /opt/ml/input/data/validation?format=csv&label_column=0&delimiter=,\u001b[0m\n",
      "\u001b[34m[2023-11-05 19:23:41.862 ip-10-0-191-95.ec2.internal:7 INFO json_config.py:91] Creating hook from json_config at /opt/ml/input/config/debughookconfig.json.\u001b[0m\n",
      "\u001b[34m[2023-11-05 19:23:41.863 ip-10-0-191-95.ec2.internal:7 INFO hook.py:201] tensorboard_dir has not been set for the hook. SMDebug will not be exporting tensorboard summaries.\u001b[0m\n",
      "\u001b[34m[2023-11-05 19:23:41.863 ip-10-0-191-95.ec2.internal:7 INFO profiler_config_parser.py:102] User has disabled profiler.\u001b[0m\n",
      "\u001b[34m[2023-11-05 19:23:41.864 ip-10-0-191-95.ec2.internal:7 INFO hook.py:255] Saving to /opt/ml/output/tensors\u001b[0m\n",
      "\u001b[34m[2023-11-05 19:23:41.864 ip-10-0-191-95.ec2.internal:7 INFO state_store.py:77] The checkpoint config file /opt/ml/input/config/checkpointconfig.json does not exist.\u001b[0m\n",
      "\u001b[34mINFO:root:Debug hook created from config\u001b[0m\n",
      "\u001b[34mINFO:root:Train matrix has 731 rows\u001b[0m\n",
      "\u001b[34mINFO:root:Validation matrix has 314 rows\u001b[0m\n",
      "\u001b[34m[19:23:41] WARNING: /workspace/src/learner.cc:328: \u001b[0m\n",
      "\u001b[34mParameters: { num_round } might not be used.\n",
      "  This may not be accurate due to some parameters are only used in language bindings but\n",
      "  passed down to XGBoost core.  Or some parameters are not used but slip through this\n",
      "  verification. Please open an issue if you find above cases.\u001b[0m\n",
      "\u001b[34m[0]#011train-error:0.02052#011validation-error:0.02866\u001b[0m\n",
      "\u001b[34m[2023-11-05 19:23:41.894 ip-10-0-191-95.ec2.internal:7 INFO hook.py:423] Monitoring the collections: metrics\u001b[0m\n",
      "\u001b[34m[2023-11-05 19:23:41.896 ip-10-0-191-95.ec2.internal:7 INFO hook.py:486] Hook is writing from the hook with pid: 7\u001b[0m\n",
      "\u001b[34m[1]#011train-error:0.02052#011validation-error:0.02866\u001b[0m\n",
      "\u001b[34m[2]#011train-error:0.02052#011validation-error:0.02866\u001b[0m\n",
      "\u001b[34m[3]#011train-error:0.02052#011validation-error:0.02866\u001b[0m\n",
      "\u001b[34m[4]#011train-error:0.02052#011validation-error:0.02866\u001b[0m\n",
      "\u001b[34m[5]#011train-error:0.02052#011validation-error:0.02866\u001b[0m\n",
      "\u001b[34m[6]#011train-error:0.02052#011validation-error:0.02866\u001b[0m\n",
      "\u001b[34m[7]#011train-error:0.02052#011validation-error:0.02866\u001b[0m\n",
      "\u001b[34m[8]#011train-error:0.02052#011validation-error:0.02866\u001b[0m\n",
      "\u001b[34m[9]#011train-error:0.02052#011validation-error:0.02866\u001b[0m\n",
      "\u001b[34m[10]#011train-error:0.02052#011validation-error:0.02866\u001b[0m\n",
      "\u001b[34m[11]#011train-error:0.02052#011validation-error:0.02866\u001b[0m\n",
      "\u001b[34m[12]#011train-error:0.02052#011validation-error:0.02866\u001b[0m\n",
      "\u001b[34m[13]#011train-error:0.02052#011validation-error:0.02866\u001b[0m\n",
      "\u001b[34m[14]#011train-error:0.02052#011validation-error:0.02866\u001b[0m\n",
      "\u001b[34m[15]#011train-error:0.02052#011validation-error:0.02866\u001b[0m\n",
      "\u001b[34m[16]#011train-error:0.02052#011validation-error:0.02866\u001b[0m\n",
      "\u001b[34m[17]#011train-error:0.02052#011validation-error:0.02866\u001b[0m\n",
      "\u001b[34m[18]#011train-error:0.02052#011validation-error:0.02866\u001b[0m\n",
      "\u001b[34m[19]#011train-error:0.02052#011validation-error:0.02866\u001b[0m\n",
      "\u001b[34m[20]#011train-error:0.02052#011validation-error:0.02866\u001b[0m\n",
      "\u001b[34m[21]#011train-error:0.02052#011validation-error:0.02866\u001b[0m\n",
      "\u001b[34m[22]#011train-error:0.02052#011validation-error:0.02866\u001b[0m\n",
      "\u001b[34m[23]#011train-error:0.02052#011validation-error:0.02866\u001b[0m\n",
      "\u001b[34m[24]#011train-error:0.02052#011validation-error:0.02866\u001b[0m\n",
      "\u001b[34m[25]#011train-error:0.02052#011validation-error:0.02866\u001b[0m\n",
      "\u001b[34m[26]#011train-error:0.02052#011validation-error:0.02866\u001b[0m\n",
      "\u001b[34m[27]#011train-error:0.02052#011validation-error:0.02866\u001b[0m\n",
      "\u001b[34m[28]#011train-error:0.02052#011validation-error:0.02866\u001b[0m\n",
      "\u001b[34m[29]#011train-error:0.02052#011validation-error:0.02866\u001b[0m\n",
      "\u001b[34m[30]#011train-error:0.02052#011validation-error:0.02866\u001b[0m\n",
      "\u001b[34m[31]#011train-error:0.02052#011validation-error:0.02866\u001b[0m\n",
      "\u001b[34m[32]#011train-error:0.02052#011validation-error:0.02866\u001b[0m\n",
      "\u001b[34m[33]#011train-error:0.02052#011validation-error:0.02866\u001b[0m\n",
      "\u001b[34m[34]#011train-error:0.02052#011validation-error:0.02866\u001b[0m\n",
      "\u001b[34m[35]#011train-error:0.02052#011validation-error:0.02866\u001b[0m\n",
      "\u001b[34m[36]#011train-error:0.02052#011validation-error:0.02866\u001b[0m\n",
      "\u001b[34m[37]#011train-error:0.02052#011validation-error:0.02866\u001b[0m\n",
      "\u001b[34m[38]#011train-error:0.02052#011validation-error:0.02866\u001b[0m\n",
      "\u001b[34m[39]#011train-error:0.02052#011validation-error:0.02866\u001b[0m\n",
      "\u001b[34m[40]#011train-error:0.02052#011validation-error:0.02866\u001b[0m\n",
      "\u001b[34m[41]#011train-error:0.02052#011validation-error:0.02866\u001b[0m\n",
      "\u001b[34m[42]#011train-error:0.02052#011validation-error:0.02866\u001b[0m\n",
      "\u001b[34m[43]#011train-error:0.02052#011validation-error:0.02866\u001b[0m\n",
      "\u001b[34m[44]#011train-error:0.02052#011validation-error:0.02866\u001b[0m\n",
      "\u001b[34m[45]#011train-error:0.02052#011validation-error:0.02866\u001b[0m\n",
      "\u001b[34m[46]#011train-error:0.02052#011validation-error:0.02866\u001b[0m\n",
      "\u001b[34m[47]#011train-error:0.02052#011validation-error:0.02866\u001b[0m\n",
      "\u001b[34m[48]#011train-error:0.02052#011validation-error:0.02866\u001b[0m\n",
      "\u001b[34m[49]#011train-error:0.02052#011validation-error:0.02866\u001b[0m\n",
      "\u001b[34m[50]#011train-error:0.02052#011validation-error:0.02866\u001b[0m\n",
      "\u001b[34m[51]#011train-error:0.02052#011validation-error:0.02866\u001b[0m\n",
      "\u001b[34m[52]#011train-error:0.02052#011validation-error:0.02866\u001b[0m\n",
      "\u001b[34m[53]#011train-error:0.02052#011validation-error:0.02866\u001b[0m\n",
      "\u001b[34m[54]#011train-error:0.02052#011validation-error:0.02866\u001b[0m\n",
      "\u001b[34m[55]#011train-error:0.02052#011validation-error:0.02866\u001b[0m\n",
      "\u001b[34m[56]#011train-error:0.02052#011validation-error:0.02866\u001b[0m\n",
      "\u001b[34m[57]#011train-error:0.02052#011validation-error:0.02866\u001b[0m\n",
      "\u001b[34m[58]#011train-error:0.02052#011validation-error:0.02866\u001b[0m\n",
      "\u001b[34m[59]#011train-error:0.02052#011validation-error:0.02866\u001b[0m\n",
      "\u001b[34m[60]#011train-error:0.02052#011validation-error:0.02866\u001b[0m\n",
      "\u001b[34m[61]#011train-error:0.02052#011validation-error:0.02866\u001b[0m\n",
      "\u001b[34m[62]#011train-error:0.02052#011validation-error:0.02866\u001b[0m\n",
      "\u001b[34m[63]#011train-error:0.02052#011validation-error:0.02866\u001b[0m\n",
      "\u001b[34m[64]#011train-error:0.02052#011validation-error:0.02866\u001b[0m\n",
      "\u001b[34m[65]#011train-error:0.02052#011validation-error:0.02866\u001b[0m\n",
      "\u001b[34m[66]#011train-error:0.02052#011validation-error:0.02866\u001b[0m\n",
      "\u001b[34m[67]#011train-error:0.02052#011validation-error:0.02866\u001b[0m\n",
      "\u001b[34m[68]#011train-error:0.02052#011validation-error:0.02866\u001b[0m\n",
      "\u001b[34m[69]#011train-error:0.02052#011validation-error:0.02866\u001b[0m\n",
      "\u001b[34m[70]#011train-error:0.02052#011validation-error:0.02866\u001b[0m\n",
      "\u001b[34m[71]#011train-error:0.02052#011validation-error:0.02866\u001b[0m\n",
      "\u001b[34m[72]#011train-error:0.02052#011validation-error:0.02866\u001b[0m\n",
      "\u001b[34m[73]#011train-error:0.02052#011validation-error:0.02866\u001b[0m\n",
      "\u001b[34m[74]#011train-error:0.02052#011validation-error:0.02866\u001b[0m\n",
      "\u001b[34m[75]#011train-error:0.02052#011validation-error:0.02866\u001b[0m\n",
      "\u001b[34m[76]#011train-error:0.02052#011validation-error:0.02866\u001b[0m\n",
      "\u001b[34m[77]#011train-error:0.02052#011validation-error:0.02866\u001b[0m\n",
      "\u001b[34m[78]#011train-error:0.02052#011validation-error:0.02866\u001b[0m\n",
      "\u001b[34m[79]#011train-error:0.02052#011validation-error:0.02866\u001b[0m\n",
      "\u001b[34m[80]#011train-error:0.02052#011validation-error:0.02866\u001b[0m\n",
      "\u001b[34m[81]#011train-error:0.02052#011validation-error:0.02866\u001b[0m\n",
      "\u001b[34m[82]#011train-error:0.02052#011validation-error:0.02866\u001b[0m\n",
      "\u001b[34m[83]#011train-error:0.02052#011validation-error:0.02866\u001b[0m\n",
      "\u001b[34m[84]#011train-error:0.02052#011validation-error:0.02866\u001b[0m\n",
      "\u001b[34m[85]#011train-error:0.02052#011validation-error:0.02866\u001b[0m\n",
      "\u001b[34m[86]#011train-error:0.02052#011validation-error:0.02866\u001b[0m\n",
      "\u001b[34m[87]#011train-error:0.02052#011validation-error:0.02866\u001b[0m\n",
      "\u001b[34m[88]#011train-error:0.02052#011validation-error:0.02866\u001b[0m\n",
      "\u001b[34m[89]#011train-error:0.02052#011validation-error:0.02866\u001b[0m\n",
      "\u001b[34m[90]#011train-error:0.02052#011validation-error:0.02866\u001b[0m\n",
      "\u001b[34m[91]#011train-error:0.02052#011validation-error:0.02866\u001b[0m\n",
      "\u001b[34m[92]#011train-error:0.02052#011validation-error:0.02866\u001b[0m\n",
      "\u001b[34m[93]#011train-error:0.02052#011validation-error:0.02866\u001b[0m\n",
      "\u001b[34m[94]#011train-error:0.02052#011validation-error:0.02866\u001b[0m\n",
      "\u001b[34m[95]#011train-error:0.02052#011validation-error:0.02866\u001b[0m\n",
      "\u001b[34m[96]#011train-error:0.02052#011validation-error:0.02866\u001b[0m\n",
      "\u001b[34m[97]#011train-error:0.02052#011validation-error:0.02866\u001b[0m\n",
      "\u001b[34m[98]#011train-error:0.02052#011validation-error:0.02866\u001b[0m\n",
      "\u001b[34m[99]#011train-error:0.02052#011validation-error:0.02866\u001b[0m\n",
      "\n",
      "2023-11-05 19:24:00 Completed - Training job completed\n",
      "Training seconds: 82\n",
      "Billable seconds: 36\n",
      "Managed Spot Training savings: 56.1%\n"
     ]
    }
   ],
   "source": [
    "estimator.fit({'train':s3_input_train,'validation':s3_input_test})"
   ]
  },
  {
   "cell_type": "markdown",
   "id": "dc1e09d4",
   "metadata": {},
   "source": [
    "# xgb predictor helps to send input data for inference and receive prediction from the deployment in xgboost model."
   ]
  },
  {
   "cell_type": "code",
   "execution_count": 17,
   "id": "e7f4baff",
   "metadata": {},
   "outputs": [
    {
     "name": "stderr",
     "output_type": "stream",
     "text": [
      "INFO:sagemaker:Creating model with name: sagemaker-xgboost-2023-11-05-19-29-36-403\n",
      "INFO:sagemaker:Creating endpoint-config with name sagemaker-xgboost-2023-11-05-19-29-36-403\n",
      "INFO:sagemaker:Creating endpoint with name sagemaker-xgboost-2023-11-05-19-29-36-403\n"
     ]
    },
    {
     "name": "stdout",
     "output_type": "stream",
     "text": [
      "-------!"
     ]
    }
   ],
   "source": [
    "xgb_predictor = estimator.deploy(initial_instance_count=1,instance_type='ml.m4.xlarge')"
   ]
  },
  {
   "cell_type": "markdown",
   "id": "26c764e0",
   "metadata": {},
   "source": [
    "# Making prediction that deploys in xgboost model and prints out the shape of the prediction array"
   ]
  },
  {
   "cell_type": "code",
   "execution_count": 21,
   "id": "668c0c5e",
   "metadata": {},
   "outputs": [
    {
     "name": "stdout",
     "output_type": "stream",
     "text": [
      "(314,)\n"
     ]
    }
   ],
   "source": [
    "from sagemaker.serializers import CSVSerializer\n",
    "test_data_array = test_data.drop(['survived','body'],axis=1).values\n",
    "\n",
    "xgb_predictor.serializer = CSVSerializer()\n",
    "\n",
    "predictions = xgb_predictor.predict(test_data_array).decode('utf-8')\n",
    "\n",
    "predictions_array = np.fromstring(predictions[1:],sep=',')\n",
    "print(predictions_array.shape)"
   ]
  },
  {
   "cell_type": "code",
   "execution_count": 22,
   "id": "f90229fd",
   "metadata": {},
   "outputs": [
    {
     "data": {
      "text/plain": [
       "array([0.01613514, 0.01059572, 0.01059572, 0.01613514, 0.99080044,\n",
       "       0.01059572, 0.16792849, 0.09694657, 0.01059572, 0.99249333,\n",
       "       0.01059572, 0.99249333, 0.99080044, 0.01973535, 0.03610218,\n",
       "       0.01059572, 0.01059572, 0.99249333, 0.93900681, 0.99249333,\n",
       "       0.11644396, 0.01613514, 0.98284411, 0.0086481 , 0.98598051,\n",
       "       0.98598051, 0.01973535, 0.0086481 , 0.9593097 , 0.01059572,\n",
       "       0.9777084 , 0.01973535, 0.0086481 , 0.01059572, 0.98176628,\n",
       "       0.98598051, 0.01613514, 0.9593097 , 0.01059572, 0.99249333,\n",
       "       0.11644396, 0.01613514, 0.01973535, 0.0086481 , 0.01613514,\n",
       "       0.01059572, 0.93900681, 0.99249333, 0.99249333, 0.93900681,\n",
       "       0.9777084 , 0.96660233, 0.01059572, 0.99249333, 0.93900681,\n",
       "       0.11644396, 0.09694657, 0.01059572, 0.0086481 , 0.01973535,\n",
       "       0.11644396, 0.99249333, 0.01059572, 0.01059572, 0.01059572,\n",
       "       0.98598051, 0.01973535, 0.99249333, 0.11644396, 0.95889938,\n",
       "       0.09694657, 0.01613514, 0.99080044, 0.99080044, 0.01973535,\n",
       "       0.01059572, 0.01613514, 0.99080044, 0.11644396, 0.01059572,\n",
       "       0.01059572, 0.0159699 , 0.11644396, 0.98284411, 0.99249333,\n",
       "       0.11644396, 0.16792849, 0.9777084 , 0.99080044, 0.9593097 ,\n",
       "       0.01973535, 0.0159699 , 0.96626294, 0.01973535, 0.01613514,\n",
       "       0.01059572, 0.99249333, 0.98284411, 0.93900681, 0.11644396,\n",
       "       0.01973535, 0.01973535, 0.11644396, 0.01973535, 0.9777084 ,\n",
       "       0.99080044, 0.01613514, 0.99249333, 0.98284411, 0.99080044,\n",
       "       0.99080044, 0.99080044, 0.0086481 , 0.01059572, 0.99249333,\n",
       "       0.01613514, 0.93900681, 0.01973535, 0.99249333, 0.01059572,\n",
       "       0.99080044, 0.01973535, 0.01059572, 0.01059572, 0.01973535,\n",
       "       0.99080044, 0.01973535, 0.99080044, 0.99080044, 0.09694657,\n",
       "       0.01973535, 0.99249333, 0.0086481 , 0.9777084 , 0.16792849,\n",
       "       0.01973535, 0.98284411, 0.9593097 , 0.01059572, 0.01613514,\n",
       "       0.99249333, 0.01973535, 0.01059572, 0.01973535, 0.01973535,\n",
       "       0.99249333, 0.01059572, 0.99249333, 0.01059572, 0.01059572,\n",
       "       0.01059572, 0.99080044, 0.01059572, 0.99080044, 0.01973535,\n",
       "       0.09694657, 0.9777084 , 0.01059572, 0.01973535, 0.93900681,\n",
       "       0.01973535, 0.01613514, 0.01059572, 0.99249333, 0.98176628,\n",
       "       0.93900681, 0.01059572, 0.01059572, 0.99249333, 0.01059572,\n",
       "       0.99249333, 0.01059572, 0.01059572, 0.09694657, 0.01613514,\n",
       "       0.01059572, 0.01613514, 0.0086481 , 0.99080044, 0.99080044,\n",
       "       0.01059572, 0.99080044, 0.01613514, 0.01973535, 0.01973535,\n",
       "       0.98176628, 0.01613514, 0.03610218, 0.01059572, 0.99249333,\n",
       "       0.96660233, 0.09694657, 0.99080044, 0.01973535, 0.99249333,\n",
       "       0.01613514, 0.99080044, 0.01059572, 0.09694657, 0.99249333,\n",
       "       0.01059572, 0.11644396, 0.99249333, 0.03610218, 0.9593097 ,\n",
       "       0.03610218, 0.01953396, 0.0159699 , 0.01059572, 0.99249333,\n",
       "       0.01973535, 0.96660233, 0.01973535, 0.01613514, 0.16792849,\n",
       "       0.01613514, 0.0086481 , 0.0086481 , 0.09694657, 0.99080044,\n",
       "       0.01059572, 0.09694657, 0.01973535, 0.01059572, 0.0086481 ,\n",
       "       0.01973535, 0.09694657, 0.11644396, 0.16792849, 0.11644396,\n",
       "       0.0159699 , 0.09694657, 0.99249333, 0.01059572, 0.99080044,\n",
       "       0.99080044, 0.99080044, 0.98598051, 0.9777084 , 0.01973535,\n",
       "       0.93900681, 0.99249333, 0.01059572, 0.01059572, 0.9593097 ,\n",
       "       0.09694657, 0.01973535, 0.96660233, 0.99249333, 0.16792849,\n",
       "       0.01973535, 0.01613514, 0.01059572, 0.96626294, 0.93900681,\n",
       "       0.01613514, 0.99249333, 0.9593097 , 0.99080044, 0.01973535,\n",
       "       0.99249333, 0.96626294, 0.93900681, 0.99249333, 0.01973535,\n",
       "       0.11644396, 0.01973535, 0.99249333, 0.11644396, 0.01059572,\n",
       "       0.01613514, 0.99080044, 0.11644396, 0.03610218, 0.01973535,\n",
       "       0.01059572, 0.99249333, 0.99249333, 0.03610218, 0.01973535,\n",
       "       0.01059572, 0.01973535, 0.96660233, 0.01973535, 0.01613514,\n",
       "       0.99249333, 0.99080044, 0.11644396, 0.11644396, 0.98598051,\n",
       "       0.01973535, 0.02960645, 0.16792849, 0.01059572, 0.99249333,\n",
       "       0.99249333, 0.93900681, 0.01059572, 0.09694657, 0.99080044,\n",
       "       0.99080044, 0.01973535, 0.01613514, 0.01059572, 0.19856256,\n",
       "       0.99080044, 0.01973535, 0.01059572, 0.99080044, 0.01973535,\n",
       "       0.0159699 , 0.0086481 , 0.01613514, 0.01059572])"
      ]
     },
     "execution_count": 22,
     "metadata": {},
     "output_type": "execute_result"
    }
   ],
   "source": [
    "predictions_array"
   ]
  },
  {
   "cell_type": "markdown",
   "id": "5d32492f",
   "metadata": {},
   "source": [
    "# Confusion matrix"
   ]
  },
  {
   "cell_type": "code",
   "execution_count": 23,
   "id": "71b5e18e",
   "metadata": {},
   "outputs": [
    {
     "name": "stdout",
     "output_type": "stream",
     "text": [
      "\n",
      "Overall classification rate:92.0%\n",
      "\n",
      "Predicted      No survived    Survived\n",
      "Observed\n",
      "No survived    88% (170)     1% (1)\n",
      "survived        0% (24)     99% (119) \n",
      "\n"
     ]
    }
   ],
   "source": [
    "cm= pd.crosstab(index=test_data['survived'],columns=np.round(predictions_array),rownames=['Observed'],colnames=['Predict'])\n",
    "tn = cm.iloc[0,0];fn=cm.iloc[1,0];tp=cm.iloc[1,1];fp=cm.iloc[0,1];p=(tp+tn)/(tp+tn+fp+fn)*100\n",
    "print(\"\\n{0:<20}{1:<4.1f}%\\n\".format(\"Overall classification rate:\",p))\n",
    "print(\"{0:<15}{1:<15}{2:>8}\".format(\"Predicted\",\"No survived\",\"Survived\"))\n",
    "print(\"Observed\")\n",
    "print(\"{0:<15}{1:<2.0f}% ({2:<}){3:>6.0f}% ({4:<})\".format(\"No survived\",tn/(tn+fn)*100,tn,fp/(tp+fp)*100,fp))\n",
    "print(\"{0:<16}{1:<1.0f}% ({2:<}){3:>7.0f}% ({4:<}) \\n\".format(\"survived\",fn/(tn+fn*100),fn,tp/(tp+fp)*100,tp))"
   ]
  },
  {
   "cell_type": "markdown",
   "id": "743eb8e2",
   "metadata": {},
   "source": [
    "# Clean up the resources after deploying the model"
   ]
  },
  {
   "cell_type": "code",
   "execution_count": null,
   "id": "78de5e53",
   "metadata": {},
   "outputs": [],
   "source": [
    "sagemaker.Session().delete_endpoint(xgb_predictor.endpoint)\n",
    "buckte_to_delete=boto3.resource('s3').Bucket(bucket_name)\n",
    "bucket_to_delete.objects.all().delete()"
   ]
  }
 ],
 "metadata": {
  "kernelspec": {
   "display_name": "conda_python3",
   "language": "python",
   "name": "conda_python3"
  },
  "language_info": {
   "codemirror_mode": {
    "name": "ipython",
    "version": 3
   },
   "file_extension": ".py",
   "mimetype": "text/x-python",
   "name": "python",
   "nbconvert_exporter": "python",
   "pygments_lexer": "ipython3",
   "version": "3.10.12"
  }
 },
 "nbformat": 4,
 "nbformat_minor": 5
}
